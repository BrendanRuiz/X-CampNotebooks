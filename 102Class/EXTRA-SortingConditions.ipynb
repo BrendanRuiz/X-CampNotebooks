{
 "cells": [
  {
   "cell_type": "markdown",
   "metadata": {},
   "source": [
    "# Sorting with Various Data\n",
    "---\n",
    "\n",
    "Sorting lists of numbers in ascending or descending order is easy once we have mastered the code for our sorting methods. \n",
    "\n",
    "What if we want to sort ***more*** than just lists of numbers? Let's suppose we want to sort a list of strings?\n",
    "\n",
    "Let's take our bubble sort code and try and use it on our list of strings. "
   ]
  },
  {
   "cell_type": "code",
   "execution_count": 2,
   "metadata": {},
   "outputs": [
    {
     "name": "stdout",
     "output_type": "stream",
     "text": [
      "['*dc', 'Aa', 'aaba', 'aba']\n"
     ]
    }
   ],
   "source": [
    "def bubbleSort(l):\n",
    "    n = len(l)\n",
    "    for i in range(n - 1):\n",
    "        swapped = False\n",
    "        for j in range(n - 1 - i):\n",
    "            if l[j] > l[j + 1]:\n",
    "                l[j], l[j + 1] = l[j + 1], l[j]\n",
    "                swapped = True\n",
    "        if swapped == False:\n",
    "            break\n",
    "    return l\n",
    "\n",
    "print(bubbleSort(['Aa', 'aba', '*dc', 'aaba']))\n"
   ]
  },
  {
   "cell_type": "markdown",
   "metadata": {},
   "source": [
    "Here we can see there are no issues. \n",
    "<div class=\"alert alert-info alert-block\"><b>remember:</b> When we compare two strings, they are compared by thier ASCII values for each of the characters. The lower the ASCII value, the higher the priority.</div>\n",
    "\n",
    "Take a look at the ASCII table to remind yourself of the order of characters. \n",
    "![ASCII Table](https://upload.wikimedia.org/wikipedia/commons/thumb/1/1b/ASCII-Table-wide.svg/2560px-ASCII-Table-wide.svg.png)"
   ]
  },
  {
   "cell_type": "markdown",
   "metadata": {},
   "source": [
    "### ord() and chr()\n",
    "\n",
    "If you want to see the ASCII values of a character to understand how the comparison is taking place, use the ord() function. This will take your character and return its ASCII value. \n",
    "\n",
    "If you want to take a ASCII value and see its character representation, use the chr function to return the character. \n",
    "\n",
    "Take a look at the following examples. "
   ]
  },
  {
   "cell_type": "code",
   "execution_count": 8,
   "metadata": {},
   "outputs": [
    {
     "name": "stdout",
     "output_type": "stream",
     "text": [
      "65\n",
      "A\n"
     ]
    }
   ],
   "source": [
    "ascii_num = ord('A')\n",
    "print(ascii_num)\n",
    "\n",
    "ascii_val = chr(65)\n",
    "print(ascii_val)"
   ]
  },
  {
   "cell_type": "markdown",
   "metadata": {},
   "source": [
    "### Sorting by multiple criteria\n",
    "\n",
    "Let's say you were tasked with sorting class of students. You would probably ask the question, \"How should the students be ordered? By age, GPA, name or some other criteria?\"\n",
    "\n",
    "Often in real life we need to sort our data by multiple criteria. Let's say our task was to sort the students by GPA, and if there is a tie in GPA between two students, we want the student to be sorted by name alphabetically. \n",
    "\n",
    "We could do the following:\n",
    "1. Create a list for the GPAs of each student. \n",
    "1. Create a list of names for each student\n",
    "\n",
    "***Here, each index represents a student. We must make sure to preserve the order of our lists or else we will mix up students names and scores.***"
   ]
  },
  {
   "cell_type": "code",
   "execution_count": 10,
   "metadata": {},
   "outputs": [
    {
     "name": "stdout",
     "output_type": "stream",
     "text": [
      "4.0 Henry\n",
      "3.7 Eve\n",
      "3.5 Alice\n",
      "3.5 Sally\n",
      "3.1 David\n",
      "2.4 Bob\n"
     ]
    }
   ],
   "source": [
    "def bubbleSort(gpas, names):\n",
    "    n = len(gpas) # both lists MUST be the same length so we could have used either\n",
    "    for i in range(n - 1):\n",
    "        swapped = False\n",
    "        for j in range(n - 1 - i):\n",
    "            if gpas[j] < gpas[j + 1]: # here we are bubbling up the SMALLEST gpas so they are last\n",
    "                gpas[j], gpas[j + 1] = gpas[j + 1], gpas[j]\n",
    "                names[j], names[j + 1] = names[j + 1], names[j] # here I swap data in BOTH lists to keep name/GPA pairs correct\n",
    "                swapped = True\n",
    "            elif gpas[j] == gpas[j + 1] and names[j] > names[j + 1]: # here I add my second sorting condition\n",
    "                gpas[j], gpas[j + 1] = gpas[j + 1], gpas[j]\n",
    "                names[j], names[j + 1] = names[j + 1], names[j] \n",
    "                swapped = True\n",
    "        if swapped == False:\n",
    "            break\n",
    "\n",
    "student_gpa_list = [2.4, 4.0, 3.5, 3.5, 3.7, 3.1]\n",
    "student_names_list = ['Bob', 'Henry', 'Sally', 'Alice', 'Eve', 'David']\n",
    "bubbleSort(student_gpa_list, student_names_list)\n",
    "\n",
    "for i in range(len(student_names_list)):\n",
    "    print(student_gpa_list[i], student_names_list[i])\n",
    "\n"
   ]
  },
  {
   "cell_type": "markdown",
   "metadata": {},
   "source": [
    "While we can use this technique to sort lists of items, we must acknowledge the problems with this method. \n",
    "\n",
    "1. If we swap values in one list but forgeet to swap in another list, our data is out of order and each index no longer represents the data of a student. \n",
    "1. Suppose we had 10 different criteria we needed to sort by. Swapping 20 values is very messy and a huge amount of work. \n",
    "\n",
    "### Another approach, nested lists\n",
    "\n",
    "Instead of having multiple lists, let's store the data for each student in ***one*** singular list. At each index, we can store a list that has each students info. "
   ]
  },
  {
   "cell_type": "code",
   "execution_count": 12,
   "metadata": {},
   "outputs": [],
   "source": [
    "all_students = [\n",
    "    [2.4, 'Bob'], \n",
    "    [4.0, 'Henry'], \n",
    "    [3.5, 'Sally'], \n",
    "    [3.5, 'Alice'], \n",
    "    [3.7, 'Eve'], \n",
    "    [3.1, 'David']\n",
    "]"
   ]
  },
  {
   "cell_type": "markdown",
   "metadata": {},
   "source": [
    "Now we can pass our single list to our function, and make only a change to our if statement for comparison. "
   ]
  },
  {
   "cell_type": "code",
   "execution_count": 13,
   "metadata": {},
   "outputs": [
    {
     "name": "stdout",
     "output_type": "stream",
     "text": [
      "4.0 Henry\n",
      "3.7 Eve\n",
      "3.5 Alice\n",
      "3.5 Sally\n",
      "3.1 David\n",
      "2.4 Bob\n"
     ]
    }
   ],
   "source": [
    "def bubbleSort(students):\n",
    "    n = len(students)\n",
    "    for i in range(n - 1):\n",
    "        swapped = False\n",
    "        for j in range(n - 1 - i):\n",
    "            if students[j][0] < students[j + 1][0]:\n",
    "                students[j], students[j + 1] = students[j + 1], students[j]\n",
    "                swapped = True\n",
    "            elif students[j][0] == students[j + 1][0] and students[j][1] > students[j + 1][1]:\n",
    "                students[j], students[j + 1] = students[j + 1], students[j]\n",
    "                swapped = True\n",
    "        if swapped == False:\n",
    "            break\n",
    "\n",
    "bubbleSort(all_students)\n",
    "\n",
    "for student in all_students:\n",
    "    print(student[0], student[1])"
   ]
  }
 ],
 "metadata": {
  "interpreter": {
   "hash": "aee8b7b246df8f9039afb4144a1f6fd8d2ca17a180786b69acc140d282b71a49"
  },
  "kernelspec": {
   "display_name": "Python 3.9.2 64-bit",
   "language": "python",
   "name": "python3"
  },
  "language_info": {
   "codemirror_mode": {
    "name": "ipython",
    "version": 3
   },
   "file_extension": ".py",
   "mimetype": "text/x-python",
   "name": "python",
   "nbconvert_exporter": "python",
   "pygments_lexer": "ipython3",
   "version": "3.9.2"
  },
  "orig_nbformat": 4
 },
 "nbformat": 4,
 "nbformat_minor": 2
}
