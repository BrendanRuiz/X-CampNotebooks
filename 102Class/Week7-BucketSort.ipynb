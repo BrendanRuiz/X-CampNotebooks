{
 "cells": [
  {
   "cell_type": "markdown",
   "metadata": {},
   "source": [
    "# Bucket Sort\n",
    "---\n",
    "So far we have seen 3 different sorting methods, which all solved the same problem in different ways. From our comparisons and tests, we realized that many of our sorting methods have similar performance (speed), but differ slightly in certain cases. With Bucket sort we will again solve the same problem of sorting a list, but in a very different way than what we have seen before. "
   ]
  },
  {
   "cell_type": "markdown",
   "metadata": {},
   "source": [
    "<div class=\"alert alert-block alert-info\">\n",
    "    <b>Idea:</b> Group each list item in a smaller list (bucket). Sort each of the buckets individually. Merge the buckets back together at the end. All items in some bucket <i>i</i> are less than items of bucket <i>i</i> + 1. \n",
    "</div>"
   ]
  },
  {
   "cell_type": "markdown",
   "metadata": {},
   "source": [
    "<img src=\"https://cdn.programiz.com/cdn/farfuture/gNSELV0jV05rlFjkjScrcZWCFeRsJqJUczwEOcne9D0/mtime:1582112622/sites/tutorial2program/files/Bucket_2.png\" width=\"700\" />"
   ]
  },
  {
   "cell_type": "markdown",
   "metadata": {},
   "source": [
    "### Key Parts\n",
    "\n",
    "Here is what we will need:\n",
    "\n",
    "1. Buckets (lists). How many buckets and what should their ranges be for the items they accept?\n",
    "1. Sorting the buckets. It makes more sense to sort as we go, so let's use insertion sort to make sure the items in our buckets are in the correct order. \n",
    "1. Gather. This is the process of putting all of our buckets back together. We will need to iterate over all of our lists to make our final sorted list. "
   ]
  },
  {
   "cell_type": "markdown",
   "metadata": {},
   "source": [
    "For our buckets we will need some sort of flexible container. Our bucket could be empty, or our bucket could hold many items. We can use a list to represent each bucket, since it fufills this property of being ***mutable***. To keep all of our lists together, we will make a list to hold all our buckets. Therefore our design is a 2D list (Matrix). "
   ]
  },
  {
   "cell_type": "markdown",
   "metadata": {},
   "source": [
    "Let's answer our first big question. How many buckets do we need to create? Let's consider the two extremes. Say for example we have N items to sort:\n",
    "\n",
    "1. Let's say we have a list with no duplicate items, and we make as many buckets as we can (N buckets). \n",
    "    Pros:\n",
    "    * It is extremely fast to place items in buckets because there is no sorted needed! Each bucket has only one item. \n",
    "    * Nice when we have good range of numbers, perfect when our unsorted list are the numbers 1 to N. No buckets wasted and no buckets with more than 1 item. \n",
    "    Cons: \n",
    "    * The larger the numbers we have, the more buckets we need. This can be a ***huge*** waste of space in our program!\n",
    "\n",
    "<div class=\"alert alert-block alert-info\"> \n",
    "<b>Summary:</b> The more buckets we create, the faster our program will be. <b>However</b>, the more buckets we make, the more space we will use. We need to find the optimal trade off between speed and space in our implementation. \n",
    "</div>\n",
    "\n",
    "To get an even balance between space and speed, let our number of buckets $b = floor(\\sqrt{N}) + 1$. In Python we can use floor() to round any floating point numbers down to the nearest integer value. \n",
    "\n",
    "We can now also determine the bucket an item belongs to. for each item, our $bucket\\_index=floor(\\frac{item}{b})$. \n",
    "\n",
    "Now we can begin to write our code! Let's first get our buckets ready and put them in a list. "
   ]
  },
  {
   "cell_type": "code",
   "execution_count": 39,
   "metadata": {},
   "outputs": [
    {
     "name": "stdout",
     "output_type": "stream",
     "text": [
      "We will need 4 buckets\n",
      "[[], [], [], []]\n"
     ]
    }
   ],
   "source": [
    "import math\n",
    "\n",
    "l = [2, 1, 3, 9, 8, 5, 6, 4, 7, 10]\n",
    "b = math.floor(math.sqrt(len(l))) + 1\n",
    "\n",
    "print('We will need', b, 'buckets')\n",
    "\n",
    "all_buckets = []\n",
    "for i in range(b):\n",
    "    all_buckets.append([])\n",
    "\n",
    "print(all_buckets)"
   ]
  },
  {
   "cell_type": "markdown",
   "metadata": {},
   "source": [
    "Next, let's insert the numbers into the buckets one by one. We can copy our insertion sort function to make sure we find the right place for each item. "
   ]
  },
  {
   "cell_type": "code",
   "execution_count": 40,
   "metadata": {},
   "outputs": [
    {
     "name": "stdout",
     "output_type": "stream",
     "text": [
      "[1, 2, 3, 4, 5, 6, 7, 8, 9, 10]\n"
     ]
    }
   ],
   "source": [
    "def insertion(bucket):  \n",
    "    itm_to_insert = all_buckets[bucket][-1] # grab the last item\n",
    "    curr_pos = len(all_buckets[bucket]) - 1 \n",
    "    while curr_pos > 0 and itm_to_insert < all_buckets[bucket][curr_pos - 1]: # keep moving left until found right place\n",
    "        all_buckets[bucket][curr_pos] = all_buckets[bucket][curr_pos - 1]\n",
    "        curr_pos -= 1\n",
    "    all_buckets[bucket][curr_pos] = itm_to_insert # place the item\n",
    "\n",
    "\n",
    "for itm in l: # for each our items in our list\n",
    "    position = math.floor(itm/b)  # find the bucket it belongs to\n",
    "    all_buckets[position].append(itm) # add the item to the bucket\n",
    "    if len(all_buckets[position]) > 1:\n",
    "        insertion(position) # insert it into the right position if more than 1 item\n",
    "\n",
    "# finally, put the bucket items back together in a list\n",
    "sorted_lst = []\n",
    "for bucket in all_buckets:\n",
    "    for itm in bucket:\n",
    "        sorted_lst.append(itm)\n",
    "\n",
    "print(sorted_lst)\n",
    "\n"
   ]
  },
  {
   "cell_type": "markdown",
   "metadata": {},
   "source": [
    "### Edge cases\n",
    "\n",
    "Remember, edge cases are strange possible inputs to our problems that could behave differently than expected. Let's suppose we had a list of 10 items like above, but instead of the numbers being the numbers 1 - 10 they were floating point numbers that started with 1 for example 1.12, 1.22, 1.73, etc. \n",
    "\n",
    "All the items would end up going to the same bucket! This means that our solution would be no different from our regular insertion sort code. \n",
    "\n",
    "### When to use bucket sort?\n",
    "\n",
    "Bucket sort really only makes sense to use when you know the contents of your list, and the items are evenly distributed. A perfect case for bucket sort would be sorting the numbers 1 - N, using N buckets. Let's see just how fast this is compared to our selection sort method.  "
   ]
  },
  {
   "cell_type": "code",
   "execution_count": 55,
   "metadata": {},
   "outputs": [
    {
     "name": "stdout",
     "output_type": "stream",
     "text": [
      "the total time for selection sort is: 0:00:00.000476\n",
      "the total time for perfect case bucket sort is: 0:00:00.000077\n"
     ]
    }
   ],
   "source": [
    "import random\n",
    "import datetime\n",
    "\n",
    "# generate our random list for testing, 1 for bucket, 1 for selection\n",
    "available_pos = [i for i in range(1, 101)]\n",
    "bucket_test_lst = []\n",
    "selection_test_lst = []\n",
    "\n",
    "for i in range(100):\n",
    "    rand_ind = random.randint(0, len(available_pos) - 1)\n",
    "    bucket_test_lst.append(available_pos[rand_ind])\n",
    "    selection_test_lst.append(available_pos[rand_ind])\n",
    "    del available_pos[rand_ind]\n",
    "\n",
    "# selection sort code\n",
    "def selection(l):\n",
    "    n = len(l)\n",
    "    for i in range(n - 1):\n",
    "        pos_of_min = i\n",
    "        for j in range(i + 1, n):\n",
    "            if l[j] < l[pos_of_min]:\n",
    "                pos_of_min = j\n",
    "        l[i], l[pos_of_min] = l[pos_of_min], l[i]\n",
    "\n",
    "# bucket sort code, remember no insertion needed since each bucket will hold one item\n",
    "# each itm will go to the bucket of its number (shifted back by 1 since bucket index goes from 0 to 99)\n",
    "def bucket(l):\n",
    "    num_buckets = len(l)\n",
    "    bucket_lst = []\n",
    "    for i in range(num_buckets):\n",
    "        bucket_lst.append([])\n",
    "    for i in l:\n",
    "        bucket_lst[i - 1] = i\n",
    "\n",
    "# testing\n",
    "start = datetime.datetime.now()\n",
    "selection(selection_test_lst)\n",
    "total_time = datetime.datetime.now() - start\n",
    "print('the total time for selection sort is:', total_time)\n",
    "\n",
    "\n",
    "start = datetime.datetime.now()\n",
    "bucket(bucket_test_lst)\n",
    "total_time = datetime.datetime.now() - start\n",
    "print('the total time for perfect case bucket sort is:', total_time)\n"
   ]
  },
  {
   "cell_type": "markdown",
   "metadata": {},
   "source": [
    "<div class=\"alert alert-block alert-success\">In the random perfectly distributed list, bucket sort wins by a large margin!</div>"
   ]
  },
  {
   "cell_type": "markdown",
   "metadata": {},
   "source": [
    "## Summary\n",
    "\n",
    "In the rare case, bucket sort is much more efficient than our other sorting methods, however we do not come across this case very often. We can use bucket sort in cases where we have uniformly distributed data, since we want to limit the amount of comparisons that are happening with the insertion step of bucket sort. \n",
    "\n",
    "There is a trade off between space and speed. In our test we only had 100 buckets, which is not so many. Remember that lists in Python have limitations. They can only hold up to 536870912 items. The performance of our bucket sort depends on how many buckets we create, and how evenly distriuted the data is. "
   ]
  }
 ],
 "metadata": {
  "interpreter": {
   "hash": "aee8b7b246df8f9039afb4144a1f6fd8d2ca17a180786b69acc140d282b71a49"
  },
  "kernelspec": {
   "display_name": "Python 3.9.2 64-bit",
   "language": "python",
   "name": "python3"
  },
  "language_info": {
   "codemirror_mode": {
    "name": "ipython",
    "version": 3
   },
   "file_extension": ".py",
   "mimetype": "text/x-python",
   "name": "python",
   "nbconvert_exporter": "python",
   "pygments_lexer": "ipython3",
   "version": "3.9.2"
  },
  "orig_nbformat": 4
 },
 "nbformat": 4,
 "nbformat_minor": 2
}
