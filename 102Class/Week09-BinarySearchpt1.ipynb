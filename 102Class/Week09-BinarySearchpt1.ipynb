{
 "cells": [
  {
   "cell_type": "markdown",
   "metadata": {},
   "source": [
    "# Binary Search - part 1\n",
    "---\n",
    "From our previous lesson about merge sort, we learned a very important lesson. We learned that sorted lists are very powerful and we can use them to solve problems in more efficient ways. For merge sort we start out with N sorted lists (all of size 1) and merged them together. At each merge step, we knew the lists a and b we were combining were already sorted. Due to this property, we could always take the smallest index of a list and know it is as low as we can go. \n",
    "\n",
    "Now, let's solve a new problem. Given a list of items, check to see if an item exists in our list. If the item is found, print 'found'. If our item is not found, print 'not found'.\n",
    "\n",
    "Lets explore our way to solve this problem: Linear search\n",
    "\n",
    "### Linear search\n",
    "\n",
    "<div class=\"alert alert-block alert-info\"><b>Idea:</b> Scan the list from left to right, visiting each item along the way. If we find our item, we are done. If we visit each item and we do not find what we were looking for, the item does not exist in the list.</div>\n",
    "\n",
    "Let's see linear search in practice. "
   ]
  },
  {
   "cell_type": "code",
   "execution_count": 1,
   "metadata": {},
   "outputs": [
    {
     "name": "stdout",
     "output_type": "stream",
     "text": [
      "Looking for 2 in the list.\n",
      "Status: not found\n",
      "Looking for 5 in the list.\n",
      "Status: found\n"
     ]
    }
   ],
   "source": [
    "def linear_search(lst, search_val):\n",
    "    for itm in lst:\n",
    "        if itm == search_val:\n",
    "            return 'found'\n",
    "    return 'not found'\n",
    "\n",
    "ans1 = linear_search([1, 5, 7, 3, 4, 8, 0, 6], 2)\n",
    "print('Looking for {} in the list.\\nStatus: {}'.format(2, ans1)) # looking for 2, which is not in the list\n",
    "ans2 = linear_search([1, 5, 7, 3, 4, 8, 0, 6], 5)\n",
    "print('Looking for {} in the list.\\nStatus: {}'.format(5, ans2)) # looking for 5, which is in the list\n"
   ]
  },
  {
   "cell_type": "markdown",
   "metadata": {},
   "source": [
    "Linear search is a perfectly good method for finding an item in a list. However, it can be faster or slower depending on where the item is in the list. \n",
    "\n",
    "Let's examine two special cases for finding an item we know exists in our list. \n",
    "\n",
    "Case 1: the item we are searching for is the very first value in our list.\n",
    "\n",
    "Case 2: the item we are searching for is the very last item in our list. \n",
    "\n",
    "Let's do a speed test to understand just how different these cases can be. "
   ]
  },
  {
   "cell_type": "code",
   "execution_count": 2,
   "metadata": {},
   "outputs": [
    {
     "name": "stdout",
     "output_type": "stream",
     "text": [
      "the total time for finding the first item in our list is: 0:00:00.000127\n",
      "the total time for finding the last item in our list is: 0:00:00.242514\n"
     ]
    }
   ],
   "source": [
    "import datetime\n",
    "\n",
    "# first let's generate a list of numebrs 1 to 10000001\n",
    "sample1 = []\n",
    "for i in range(1, 10000001):\n",
    "    sample1.append(i)\n",
    "\n",
    "# do our linear seach, searching for the first and last item in the list: 1 and 10000001\n",
    "start = datetime.datetime.now()\n",
    "ans1 = linear_search(sample1, 1)\n",
    "total_time = datetime.datetime.now() - start\n",
    "print('the total time for finding the first item in our list is:', total_time)\n",
    "\n",
    "start = datetime.datetime.now()\n",
    "ans2 = linear_search(sample1, 10000001)\n",
    "total_time = datetime.datetime.now() - start\n",
    "print('the total time for finding the last item in our list is:', total_time)"
   ]
  },
  {
   "cell_type": "markdown",
   "metadata": {},
   "source": [
    "As we can see from our test, the closer our item is to the front of the list, the faster we will find it. This means that our linear search is really great for some cases, but for others it isn't. Can we find a solution that closer in time for the items at the start and back?\n",
    "\n",
    "If our list has no order: No. Since we have no clue where the item is in the list, we can not jump around and look in different places to get to the answer faster. \n",
    "\n",
    "If our list ***is*** ordered: Yes! We will use that magical sorted property to get to our answer in a quicker way. This is called ***binary seach***\n",
    "\n",
    "<div class=\"alert alert-block alert-info\"><b>Idea:</b> \n",
    "Given a sorted list, we can divide the list in half. Now 1 of 3 statements must be true: <br>\n",
    "1. The item we are looking for is less than the middle item. In this case we can eliminate all the values in the right half since they must be greater than the middle element<br>\n",
    "2. The item we are looking at is greater than the middle item. In this case we can eliminate all the values in the left haf since they must be less than the middle element <br>\n",
    "3. If neither of the above is true, the item we are looking for is equal to the middle value and we are done searching.  \n",
    "</div>\n",
    "\n",
    "How does this improve on the linear search?\n",
    "\n",
    "In the linear seach, we visit each item one by one. If the items do not match, we rule out ***only*** 1 item at a time. \n",
    "\n",
    "In the binary seach, we start in the middle of the list. If the item does not match the middle, we can immediately eliminate ***half*** of the items from our list from being possible matches. \n",
    "\n",
    "<div class=\"alert alert-block alert-warning\"><b>Warning:</b> \n",
    "In order for binary search to work properly, the list must be in <b>sorted order</b>. If not, we cannot conclude that half the items are impossible with each check. \n",
    "</div>\n",
    "\n",
    "Lets look at the general procedure:\n",
    "\n",
    "<img src=\"https://storage.googleapis.com/algodailyrandomassets/tutorials-optimized/binarySearch1.png\" width=\"600\" />\n"
   ]
  },
  {
   "cell_type": "markdown",
   "metadata": {},
   "source": [
    "\n",
    "Let's take another look, watching as we change our search space each time: \n",
    "\n",
    "<img src=\"https://d18l82el6cdm1i.cloudfront.net/uploads/bePceUMnSG-binary_search_gif.gif\" />"
   ]
  },
  {
   "cell_type": "markdown",
   "metadata": {},
   "source": [
    "### General Procedure\n",
    "\n",
    "1. Create a left and a right. At the start $left = 0$, $right = len(list) - 1$. \n",
    "1. As long as our left position does not pass our right do the following:\n",
    "    * Calculate the middle index $middle = \\frac{left + right}{2}$\n",
    "    * If the value in the middle is less than the value we are searching for -> $left = middle + 1$\n",
    "    * If the value in the middle is greater than the value we are searching for -> $right = middle - 1$\n",
    "    * If neither of the first two cases were true, the value we in the middle is our search value! -> finish\n",
    "1. If we went through our entire binary search process without our middle value ever being equal to our search value, we did not find what we were looking for. "
   ]
  },
  {
   "cell_type": "markdown",
   "metadata": {},
   "source": [
    "One more item we need to focus on: \n",
    "\n",
    "What if $\\frac{left + right}{2}$ is not a integer value. How can we use this as an index to check? \n",
    "\n",
    "We must either round down or up. In previous lessons we learned that the floor() function in Python rounds a floating point down to the nearest integer value. When we are doing division, we can use something called ***floor division*** that allows us to automatically round down any floating point number when we divide. We use the // instead of /. From now on instead of writing $floor(a / b)$ we will instead write $a // b$. \n",
    "\n",
    "Let's put this all together to write the code. "
   ]
  },
  {
   "cell_type": "code",
   "execution_count": 3,
   "metadata": {},
   "outputs": [
    {
     "name": "stdout",
     "output_type": "stream",
     "text": [
      "Looking for 11 in list using binary search.\n",
      "Status: found!\n"
     ]
    }
   ],
   "source": [
    "def binary_search(lst, target_value):\n",
    "    left, right = 0, len(lst) - 1 \n",
    "    while left <= right:\n",
    "        middle = (left + right) // 2\n",
    "        if lst[middle] < target_value:\n",
    "            left = middle + 1\n",
    "        elif lst[middle] > target_value:\n",
    "            right = middle - 1\n",
    "        else:\n",
    "            return 'found!'\n",
    "    return 'not found'\n",
    "\n",
    "ans = binary_search([1, 3, 5, 7, 8, 9, 11, 12], 11)\n",
    "print('Looking for {} in list using binary search.\\nStatus: {}'.format(11, ans)) # search for 11 in the list"
   ]
  },
  {
   "cell_type": "markdown",
   "metadata": {},
   "source": [
    "In order to understand the power of the binary search let's compare it against our linear search. \n",
    "\n"
   ]
  },
  {
   "cell_type": "code",
   "execution_count": 7,
   "metadata": {},
   "outputs": [
    {
     "name": "stdout",
     "output_type": "stream",
     "text": [
      "the total time for finding the last item in our list with linear search is: 0:00:00.242930\n",
      "the total time for finding the last item in our list using binary seach is: 0:00:00.000054\n"
     ]
    }
   ],
   "source": [
    "import datetime\n",
    "\n",
    "# first let's generate a list of numebrs 1 to 10000001\n",
    "sample2 = []\n",
    "for i in range(1, 10000001):\n",
    "    sample2.append(i)\n",
    "\n",
    "# do our linear seach looking for 10000001 (last item) and then binary search looking for last item\n",
    "start = datetime.datetime.now()\n",
    "ans1 = linear_search(sample2, 10000001)\n",
    "total_time = datetime.datetime.now() - start\n",
    "print('the total time for finding the last item in our list with linear search is:', total_time)\n",
    "\n",
    "start = datetime.datetime.now()\n",
    "ans2 = binary_search(sample2, 10000001)\n",
    "total_time = datetime.datetime.now() - start\n",
    "print('the total time for finding the last item in our list using binary seach is:', total_time)\n"
   ]
  },
  {
   "cell_type": "markdown",
   "metadata": {},
   "source": [
    "As we can see, our binary search made a huge difference. \n",
    "\n",
    "Why? \n",
    "\n",
    "Binary search reduces the number of items in our list we visit. For example if we had a list of N items, for linear search we could potentially visit all N items before knowing if our item was in our list. With binary search we cut our search space in half each time. \n",
    "\n",
    "Exactly how many items must we visit to get to our answer? Let's write a new binary search function that counts the number of middle points it checks along the way. We will check a value that does not exist, so we maximize the checks we do. "
   ]
  },
  {
   "cell_type": "code",
   "execution_count": 10,
   "metadata": {},
   "outputs": [
    {
     "name": "stdout",
     "output_type": "stream",
     "text": [
      "16\n"
     ]
    }
   ],
   "source": [
    "def binary_search_checks(lst, target_value):\n",
    "    left, right = 0, len(lst) - 1 \n",
    "    num_checks = 0 # keep track of the number of values we compare\n",
    "    while left <= right:\n",
    "        middle = (left + right) // 2\n",
    "        num_checks += 1 # here we will check our middle against taget value, so increment the checker\n",
    "        if lst[middle] < target_value:\n",
    "            left = middle + 1\n",
    "        elif lst[middle] > target_value:\n",
    "            right = middle - 1\n",
    "        else:\n",
    "            return num_checks\n",
    "    return num_checks\n",
    "\n",
    "print(binary_search_checks([i for i in range(65536)], -1))\n"
   ]
  },
  {
   "cell_type": "markdown",
   "metadata": {},
   "source": [
    "When we created an ordered list of 65536 numbers, we saw that there were 16 checks. Hopefully this number is fimiliar from our last lesson!\n",
    "\n",
    "$2^{16} = 65536$\n",
    "\n",
    "and we also remember:\n",
    "\n",
    "$log_2(65536) = 16$\n",
    "\n",
    "There is a strong connection to the way merge sort and binary search works. The big difference is they work in reverse. \n",
    "\n",
    "Merge sort: start with 1 and double each time until we reach the full list size. \n",
    "\n",
    "Binary seach: start with the full list, cutting in half each time until we a search space of just 1 element. \n",
    "\n"
   ]
  },
  {
   "cell_type": "markdown",
   "metadata": {},
   "source": [
    "### Summary\n",
    "\n",
    "There are many similarities to merge sort and binary search. Although they are solving two different problems, they do so using the power of sorted lists, and our ability to double or cut in half these lists to get faster to our answer. Rememember that in the perfect case scenereo, linear search and binary seach are equally as fast. The big difference is in the worst case scenereo when binary search performs ***much*** faster than the linear seach. \n",
    "\n",
    "If our list is not sorted and we do not know anything about our list, we cannot use our binary seach. "
   ]
  }
 ],
 "metadata": {
  "interpreter": {
   "hash": "aee8b7b246df8f9039afb4144a1f6fd8d2ca17a180786b69acc140d282b71a49"
  },
  "kernelspec": {
   "display_name": "Python 3.9.2 64-bit",
   "language": "python",
   "name": "python3"
  },
  "language_info": {
   "codemirror_mode": {
    "name": "ipython",
    "version": 3
   },
   "file_extension": ".py",
   "mimetype": "text/x-python",
   "name": "python",
   "nbconvert_exporter": "python",
   "pygments_lexer": "ipython3",
   "version": "3.9.2"
  },
  "orig_nbformat": 4
 },
 "nbformat": 4,
 "nbformat_minor": 2
}
