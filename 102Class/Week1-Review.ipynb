{
 "cells": [
  {
   "cell_type": "markdown",
   "metadata": {},
   "source": [
    "# Review\n",
    "\n",
    "## Strings, lists, and matrices.\n",
    "---"
   ]
  },
  {
   "cell_type": "markdown",
   "metadata": {},
   "source": [
    "### What are strings?\n",
    "\n",
    "Strings are the way in which we represent characters and words in Python. Strings are **always** represented by single, double or triple quotes. We can assign a string to a variable in the following way:"
   ]
  },
  {
   "cell_type": "code",
   "execution_count": 2,
   "metadata": {},
   "outputs": [
    {
     "name": "stdout",
     "output_type": "stream",
     "text": [
      "Hello 102 Class!\n"
     ]
    }
   ],
   "source": [
    "sample = \"Hello 102 Class!\"\n",
    "\n",
    "print(sample)"
   ]
  },
  {
   "cell_type": "markdown",
   "metadata": {},
   "source": [
    "## Strings - Just character lists!\n",
    "\n",
    "We can think about strings as a list of characters, where each position in the list contains one character. Python actually represents strings this way and so we have the power of list indecies to get specific characters within a string. \n",
    "\n",
    "*Question: What will the following code print?*"
   ]
  },
  {
   "cell_type": "code",
   "execution_count": 3,
   "metadata": {},
   "outputs": [
    {
     "name": "stdout",
     "output_type": "stream",
     "text": [
      "l\n"
     ]
    }
   ],
   "source": [
    "sample2 = \"I love coding\"\n",
    "\n",
    "print(sample[3])"
   ]
  },
  {
   "cell_type": "markdown",
   "metadata": {},
   "source": [
    "Since lists are iterable, meaning that we can use a loop to traverse all elements in our list, we can use use this to our benefit in numerous ways. Take for example the following example that counts the number of i's in the word Mississippi"
   ]
  },
  {
   "cell_type": "code",
   "execution_count": 5,
   "metadata": {},
   "outputs": [
    {
     "name": "stdout",
     "output_type": "stream",
     "text": [
      "the number of i's in the word Mississippi is: 4\n"
     ]
    }
   ],
   "source": [
    "word = \"Mississippi\"\n",
    "numb_i = 0\n",
    "\n",
    "for c in word:\n",
    "    if c == 'i':\n",
    "        numb_i += 1\n",
    "\n",
    "print(\"the number of i's in the word Mississippi is:\", numb_i)"
   ]
  },
  {
   "cell_type": "markdown",
   "metadata": {},
   "source": [
    "## What is the difference between '', \" \" and \"\"\" \"\"\" ?\n",
    "\n",
    "Although we use quotes to represent strings, let's suppose you wanted to add some quotation marks within your string. Take for example: \n",
    "\n",
    "> And then he said, \"my favorite language is Python\". \n",
    "\n",
    "or \n",
    "\n",
    "> \"Python is nice!\" I replied, but I forgot to ask him what's his favorite topic!  \n",
    "\n",
    "If python reads a \" inside of a string it will think this is the end. to escape this we can surround our string in single quotes.\n",
    "\n",
    "Similarly, if we want to use single quotes inside of our string, we can escape this by surrounding by double quotes. \n",
    "\n",
    "If we want to use both single and double quotes, we can escape the end string character by surrounding by triple quotes. "
   ]
  },
  {
   "cell_type": "code",
   "execution_count": 7,
   "metadata": {},
   "outputs": [
    {
     "name": "stdout",
     "output_type": "stream",
     "text": [
      "And then he said, \"my favorite language is Python\".\n",
      "\"Python is nice!\" I replied, but I forgot to ask him what's his favaorite topic!\n"
     ]
    }
   ],
   "source": [
    "message = 'And then he said, \"my favorite language is Python\".'\n",
    "\n",
    "print(message)\n",
    "\n",
    "message2 = \"\"\"\"Python is nice!\" I replied, but I forgot to ask him what's his favaorite topic!\"\"\"\n",
    "\n",
    "print(message2)"
   ]
  },
  {
   "cell_type": "markdown",
   "metadata": {},
   "source": [
    "Note that triple quotes also help us to represent multi line strings like the following: \n",
    "\n",
    "> Hi\n",
    ">\n",
    "> X-Campers!"
   ]
  },
  {
   "cell_type": "code",
   "execution_count": 8,
   "metadata": {},
   "outputs": [
    {
     "name": "stdout",
     "output_type": "stream",
     "text": [
      "Hi\n",
      "\n",
      "X-Campers!\n"
     ]
    }
   ],
   "source": [
    "message3 = \"\"\"Hi\n",
    "\n",
    "X-Campers!\"\"\"\n",
    "\n",
    "print(message3)"
   ]
  },
  {
   "cell_type": "markdown",
   "metadata": {},
   "source": [
    "## String functions\n",
    "\n",
    "There are some **really** helpful functions for strings in Python that you should know and memorize! Here are some of the best: \n",
    "\n",
    "1. len() - gets the length of your string\n",
    "2. count() - gives the number of times an item was counted\n",
    "3. find() - returns the position of the value searched for\n",
    "4. split() - splits the string at a certain character and returns a list\n",
    "\n",
    "Let's see how these can be applied. \n",
    "\n",
    "You can always Google search \"Python string methods\" in order to find long lists of helpful functions you can use in your Python code!"
   ]
  },
  {
   "cell_type": "code",
   "execution_count": 9,
   "metadata": {},
   "outputs": [
    {
     "name": "stdout",
     "output_type": "stream",
     "text": [
      "13\n",
      "2\n",
      "0\n",
      "['I', 'am', 'a', 'string']\n"
     ]
    }
   ],
   "source": [
    "message4 = \"I am a string\"\n",
    "\n",
    "print(len(message4))\n",
    "print(message4.count(\"a\"))\n",
    "print(message4.find(\"I\"))\n",
    "print(message4.split(\" \"))\n"
   ]
  },
  {
   "cell_type": "markdown",
   "metadata": {},
   "source": [
    "## Lists\n",
    "\n",
    "What is a list? A list is a collection of items. \n",
    "\n",
    "These items can be of any data type such as strings, numbers, booleans etc. We represent lists using the [] brackets. \n",
    "\n",
    "Remember, unlike some other programming languages, Python does not require all items in our list to be the same data type!"
   ]
  },
  {
   "cell_type": "code",
   "execution_count": 10,
   "metadata": {},
   "outputs": [
    {
     "name": "stdout",
     "output_type": "stream",
     "text": [
      "1\n",
      "2\n",
      "True\n",
      "blue\n"
     ]
    }
   ],
   "source": [
    "lst1 = [1, 2, True, \"blue\"]\n",
    "\n",
    "for item in lst1: \n",
    "    print(item)"
   ]
  },
  {
   "cell_type": "markdown",
   "metadata": {},
   "source": [
    "We can access values in our list using our bracket notation to get a specific item. Also we can use the range notation in order to get items within a specific range. Let's use this to print the last item in the list, then print the first 3 items. "
   ]
  },
  {
   "cell_type": "code",
   "execution_count": 20,
   "metadata": {},
   "outputs": [
    {
     "name": "stdout",
     "output_type": "stream",
     "text": [
      "black\n",
      "['red', 'blue', 'green']\n"
     ]
    }
   ],
   "source": [
    "lst2 = [\"red\", \"blue\", \"green\", \"orange\", \"yellow\", \"black\"]\n",
    "\n",
    "print(lst2[-1])\n",
    "\n",
    "print(lst2[:3]) # lst2[:3] is the same as writing lst2[0:3]\n"
   ]
  },
  {
   "cell_type": "markdown",
   "metadata": {},
   "source": [
    "Like string, there are some really useful string methods you can use. Here are some of the best: \n",
    "\n",
    "1. Append() - adds to end of the list\n",
    "2. clear() - empties the list\n",
    "3. sort() - sorts the list\n",
    "4. len() - gives the length of the list\n",
    "5. extend() - add a list to another\n",
    "\n",
    "Let's see some examples: "
   ]
  },
  {
   "cell_type": "code",
   "execution_count": 23,
   "metadata": {},
   "outputs": [
    {
     "name": "stdout",
     "output_type": "stream",
     "text": [
      "[True, 'coding', False]\n",
      "[]\n",
      "['Fizz', 'Buzz']\n",
      "[2, 3, 6, 7]\n",
      "4\n",
      "[2, 3, 6, 7, 'Fizz', 'Buzz']\n"
     ]
    }
   ],
   "source": [
    "lst3 = [2, 3, 6, 7]\n",
    "lst4 = [True, 'coding']\n",
    "\n",
    "lst4.append(False)\n",
    "print(lst4)\n",
    "\n",
    "lst4.clear()\n",
    "print(lst4)\n",
    "\n",
    "lst4.append(\"Fizz\")\n",
    "lst4.append(\"Buzz\")\n",
    "print(lst4)\n",
    "\n",
    "lst3.sort()\n",
    "print(lst3)\n",
    "print(len(lst3))\n",
    "\n",
    "lst3.extend(lst4)\n",
    "print(lst3)"
   ]
  },
  {
   "cell_type": "markdown",
   "metadata": {},
   "source": [
    "## Matrix\n",
    "\n",
    "What is a matrix? In short, it is a famcy word for a list containing lists. Matrices help us to represent grids, which have an enourmous importance in all types of problems. Matrices are made up of rows and columns. \n",
    "\n",
    "Therefore, we can use our bracket notation to access each position in our matrix. Remember that we use row index and then column index to access a specific cell like\n",
    "\n",
    "```\n",
    "matrix[row][col]\n",
    "```\n",
    "We can vizualize each slot in our list with the following matrix drawing: \n",
    "\n",
    "$ \\begin{bmatrix}\n",
    "0, 0 & 0, 1 & 0, 2 \\\\\n",
    "1, 0 & 1, 1 & 1, 2 \\\\\n",
    "2, 0 & 2, 1 & 2, 2\n",
    "\\end{bmatrix} $\n",
    "\n",
    "How can we create a matrix? Simple add a lists to your lists."
   ]
  },
  {
   "cell_type": "code",
   "execution_count": 27,
   "metadata": {},
   "outputs": [
    {
     "name": "stdout",
     "output_type": "stream",
     "text": [
      "0 1 2 \n",
      "red green blue \n",
      "True False True \n"
     ]
    }
   ],
   "source": [
    "matrix1 = [[0, 1, 2], ['red', 'green', 'blue'], [True, False, True]]\n",
    "\n",
    "# how to nicely print a n x m matrix, notice how it looks like the diagram above!\n",
    "\n",
    "for i in range(len(matrix1)):\n",
    "    for j in range(len(matrix1[0])):\n",
    "        print(matrix1[i][j], end = \" \")\n",
    "    print()"
   ]
  },
  {
   "cell_type": "markdown",
   "metadata": {},
   "source": [
    "Many times in problems we may need a n x m grid in order to fill some values. We can do this on Python using some shortcuts. For example if we want to make a list of all 0's of length 10 we can write:\n",
    "```\n",
    "lst = [0] * 10\n",
    "```\n",
    "\n",
    "We can use this for our matrix as well. Look how we can create the n x m grid easily with this method. "
   ]
  },
  {
   "cell_type": "code",
   "execution_count": 29,
   "metadata": {},
   "outputs": [
    {
     "name": "stdout",
     "output_type": "stream",
     "text": [
      "0 0 0 0 \n",
      "0 0 0 0 \n",
      "0 0 0 0 \n",
      "0 0 0 0 \n",
      "0 0 0 0 \n",
      "0 0 0 0 \n"
     ]
    }
   ],
   "source": [
    "n = 6\n",
    "m = 4\n",
    "\n",
    "matrix2 = [[0] * m] * n\n",
    "\n",
    "for i in range(n):\n",
    "    for j in range(m):\n",
    "        print(matrix2[i][j], end = \" \")\n",
    "    print()"
   ]
  }
 ],
 "metadata": {
  "interpreter": {
   "hash": "aee8b7b246df8f9039afb4144a1f6fd8d2ca17a180786b69acc140d282b71a49"
  },
  "kernelspec": {
   "display_name": "Python 3.9.2 64-bit",
   "language": "python",
   "name": "python3"
  },
  "language_info": {
   "codemirror_mode": {
    "name": "ipython",
    "version": 3
   },
   "file_extension": ".py",
   "mimetype": "text/x-python",
   "name": "python",
   "nbconvert_exporter": "python",
   "pygments_lexer": "ipython3",
   "version": "3.9.2"
  },
  "orig_nbformat": 4
 },
 "nbformat": 4,
 "nbformat_minor": 2
}
