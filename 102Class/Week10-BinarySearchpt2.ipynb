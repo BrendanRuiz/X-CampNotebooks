{
 "cells": [
  {
   "cell_type": "markdown",
   "metadata": {},
   "source": [
    "# Binary Search - part 2\n",
    "---\n",
    "In last weeks lesson, we learned a new technique to improve our linear search. We recognized that if we have a sorted list of items, we do not need to do a linear search in order to find what we are looking for. Instead we can divide our list into two sections and cut the search space in half by comparing the middle value to our target value. \n",
    "\n",
    "Let's review the code:"
   ]
  },
  {
   "cell_type": "code",
   "execution_count": 3,
   "metadata": {},
   "outputs": [],
   "source": [
    "def binary_search(lst, target_val):\n",
    "    left, right = 0, len(lst) - 1 \n",
    "    while left <= right:\n",
    "        middle = (left + right) // 2 # using floor division\n",
    "        if lst[middle] < target_val:\n",
    "            left = middle + 1\n",
    "        elif lst[middle] > target_val:\n",
    "            right = middle - 1\n",
    "        else:\n",
    "            return 'found!'\n",
    "    return 'not found'"
   ]
  },
  {
   "cell_type": "markdown",
   "metadata": {},
   "source": [
    "### Another approach\n",
    "\n",
    "In the above approach, we checked at each iteration if the middle value is equal to our target. We also could have saved this check for the end, and instead checked only at the end, asking ourselves if our final value we end up is the one we were looking for. \n",
    "\n",
    "You may be asking, what is the point of checking at the end? If we can find the value during the middle and exit immediately, we are saving steps and speeding up the time of our program right?\n",
    "\n",
    "You may be overestimating the amount of work the second approach does. In practice our second approach where we only check at the end only does 1 extra iteration of the loop on average. \n",
    "\n",
    "So what is the benefit?\n",
    "\n",
    "We are eliminating one of the comparisons in our loop. Eliminating comparisions is one way we can speed up our code. Let's do a comparison with our regular binary seach and our alternative binary search to see the differences in their performances. \n",
    "\n",
    "First, let's right our alternative binary search code where we only check at the end."
   ]
  },
  {
   "cell_type": "code",
   "execution_count": 5,
   "metadata": {},
   "outputs": [],
   "source": [
    "import math\n",
    "\n",
    "def binary_search_alt(lst, target_val):\n",
    "    left, right = 0, len(lst) - 1\n",
    "    while left != right:\n",
    "        middle = math.ceil((left + right) / 2)\n",
    "        if lst[middle] > target_val:\n",
    "            right = middle - 1\n",
    "        else:\n",
    "            left = middle\n",
    "    if lst[left] == target_val:\n",
    "        return 'found!'\n",
    "    return 'not found'"
   ]
  },
  {
   "cell_type": "markdown",
   "metadata": {},
   "source": [
    "Next, let's create a large (ordered list) of items for testing. We will \n",
    "\n",
    "1. Check for a value that is not in our list and see which one is faster. \n",
    "1. Search for a value in our list and see which is faster. "
   ]
  },
  {
   "cell_type": "code",
   "execution_count": 6,
   "metadata": {},
   "outputs": [
    {
     "name": "stdout",
     "output_type": "stream",
     "text": [
      "the total time to find the answer using regular binary search: 0:00:00.000159\n",
      "the total time to find the answer using alternative binary search: 0:00:00.000069\n"
     ]
    }
   ],
   "source": [
    "import datetime\n",
    "\n",
    "sample1 = [i for i in range(100000000)]\n",
    "\n",
    "start = datetime.datetime.now()\n",
    "ans1 = binary_search(sample1, -1)\n",
    "total_time = datetime.datetime.now() - start\n",
    "print('the total time to find the answer using regular binary search:', total_time)\n",
    "\n",
    "start = datetime.datetime.now()\n",
    "ans2 = binary_search_alt(sample1, -1)\n",
    "total_time = datetime.datetime.now() - start\n",
    "print('the total time to find the answer using alternative binary search:', total_time)"
   ]
  },
  {
   "cell_type": "markdown",
   "metadata": {},
   "source": [
    "Now let's check using an item we know is in our list. For this one we anticipate a close race since both methods have their advantages. Let's run this test 10 times and see who wins most."
   ]
  },
  {
   "cell_type": "code",
   "execution_count": 28,
   "metadata": {},
   "outputs": [
    {
     "name": "stdout",
     "output_type": "stream",
     "text": [
      "regular binary search won 1 times\n",
      "alternative binary search won 8 times\n"
     ]
    }
   ],
   "source": [
    "wins_for_regular = 0\n",
    "wins_for_alt = 0\n",
    "\n",
    "for i in range(10):\n",
    "    start = datetime.datetime.now()\n",
    "    ans1 = binary_search(sample1, 100000)\n",
    "    total_time_reg = datetime.datetime.now() - start\n",
    "    start = datetime.datetime.now()\n",
    "    ans2 = binary_search_alt(sample1, 100000)\n",
    "    total_time_alt = datetime.datetime.now() - start\n",
    "    if total_time_reg > total_time_alt:\n",
    "        wins_for_regular += 1\n",
    "    elif total_time_reg < total_time_alt:\n",
    "        wins_for_alt += 1\n",
    "    else:\n",
    "        continue # here we had a tie so keep going\n",
    "\n",
    "print('regular binary search won', wins_for_regular, 'times')\n",
    "print('alternative binary search won', wins_for_alt, 'times')"
   ]
  },
  {
   "cell_type": "markdown",
   "metadata": {},
   "source": [
    "<div class=\"alert alert-block alert-success\">\n",
    "    Our alternative method of binary search where we only check at at the end wins both our tests!\n",
    "</div>\n",
    "\n",
    "What have we learned? Binary search is incredibly fast at cutting down search spaces. Although our intuition tells us that it makes more sense to stop when we find our item, it actually adds more complexity to our code since we need to check each time. "
   ]
  },
  {
   "cell_type": "markdown",
   "metadata": {},
   "source": [
    "## Special cases - duplicate elements\n",
    "\n",
    "How would our search work if we had duplicate elements in our list? Let's take a odd case to examine and see what happens. \n",
    "\n",
    "Let's say you are given a list `l = [1, 1, 1, 1, 1]`. We would calculate our middle position, and find the element right away using our binary search traditional method.\n",
    "\n",
    "Let's say now you had this same task but you wanted to find the rightmost element that was a match. How could we do that?\n",
    "\n",
    "We could use an approach similar to our alternative binary search where we check only at the end to see if our right is equal to our target element. \n",
    "\n",
    "Let's take a look at the code. "
   ]
  },
  {
   "cell_type": "code",
   "execution_count": 30,
   "metadata": {},
   "outputs": [
    {
     "name": "stdout",
     "output_type": "stream",
     "text": [
      "The rightmost index of the item we are searching for is: 3\n"
     ]
    }
   ],
   "source": [
    "def binary_search_right(lst, target_itm):\n",
    "    left, right = 0, len(lst) - 1\n",
    "    while left < right:\n",
    "        middle = (left + right) // 2\n",
    "        if lst[middle] > target_itm:\n",
    "            right = middle\n",
    "        else:\n",
    "            left = middle + 1\n",
    "    return right - 1\n",
    "\n",
    "ans = binary_search_right([1, 1, 1, 1, 2, 2], 1)\n",
    "print('The rightmost index of the item we are searching for is:', ans)"
   ]
  },
  {
   "cell_type": "markdown",
   "metadata": {},
   "source": [
    "### Binary search - more application\n",
    "\n",
    "In the future we will look at more ways we can use the power of binary search in order to get faster to our answer. One of very important applications we will learn in the future is called 'binary search on answer'. This is a process where we choose test values in a range of possible answers, and simulate them to try and find the best possible answer. We will not learn this technique right now, but let's see a small example to get you exposed to all the possibility the binary search allows. \n",
    "\n",
    "Problem: find $floor(\\sqrt{n})$, where $n$ is some integer value, without using the square root function. \n",
    "\n",
    "We know that if we multiply two identical values together, this is the reverse process of square root. \n",
    "\n",
    "<div class=\"alert alert-block alert-info\"><b>Idea:</b> Try squaring the numbers from 0 to n. Stop when product of these numbers is bigger than n. The last value that worked is our answer</div>\n",
    "\n",
    "Let's say our number n was 66. We would try $0^2, 1^2, 2^2, 3^2, 4^2, ... , 8^2, 9^2$. When we try 9 we realize our product is too large. That means that $floor(\\sqrt{66}) = 8$. \n",
    "\n",
    "This would be a ***massive*** amount of work if our number was really large. But, we can get to the answer faster using binary search. We can use the search space as our list of possible answer. Here left = 0, right = n. Next we can do our binary seach. When we want to check to move left or right in our search space, we simple need to test middle * middle to see if it is too big or too small. \n",
    "\n",
    "Hopefully that gave you a small taste of why binary search is so powerful. You will use it in many different types of problems in the future!"
   ]
  }
 ],
 "metadata": {
  "interpreter": {
   "hash": "aee8b7b246df8f9039afb4144a1f6fd8d2ca17a180786b69acc140d282b71a49"
  },
  "kernelspec": {
   "display_name": "Python 3.9.2 64-bit",
   "language": "python",
   "name": "python3"
  },
  "language_info": {
   "codemirror_mode": {
    "name": "ipython",
    "version": 3
   },
   "file_extension": ".py",
   "mimetype": "text/x-python",
   "name": "python",
   "nbconvert_exporter": "python",
   "pygments_lexer": "ipython3",
   "version": "3.9.2"
  },
  "orig_nbformat": 4
 },
 "nbformat": 4,
 "nbformat_minor": 2
}
