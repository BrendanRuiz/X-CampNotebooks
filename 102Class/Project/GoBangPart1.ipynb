{
 "cells": [
  {
   "cell_type": "markdown",
   "metadata": {},
   "source": [
    "# GoBang Project - Introduction\n",
    "---\n",
    "\n",
    "What is gobang?\n",
    "\n",
    "Also known as Gomuku and similar to tic tac toe but with 5 in a row instead of 3. Also we will play on a much larger board (15x15). Two players place one stone at\n",
    "a time in cells alternatively, and who got five stones in a row first wins!\n",
    "\n",
    "Note: This is not the same as the game go. \n",
    "\n",
    "Click [here](https://www.mathsisfun.com/games/gomoku.html) to play the game and become more familiar. \n",
    "\n",
    "Core Questions for Discussion:\n",
    "\n",
    "1. How will we represent the board?\n",
    "1. How will we remember what stones are placed in which cell?\n",
    "1. How to determine win condition?\n",
    "1. Could there be a tie?\n",
    "1. How to design the workflow based on the knowledge we've learnt so far? For Loop, While Loop, If-Else, etc..."
   ]
  },
  {
   "cell_type": "markdown",
   "metadata": {},
   "source": [
    "Answers:\n",
    "\n",
    "1. We will use a matrix to store the game board and print our matrix to the console. \n",
    "1. We will have the user select the cell they want to place their stone represented by a row and column position (1-9, a-f).\n",
    "1. To check for a win, we will traverse the matrix and check for 5 adjacent same stones in a row, column, or diagonal. \n",
    "1. Yes, a tie is possible. \n",
    "1. We will design a structure to help make the game simple to follow. "
   ]
  },
  {
   "cell_type": "markdown",
   "metadata": {},
   "source": [
    "### Game Representation\n",
    "\n",
    "Game board - To represent the board we will use a 15x15 matrix where different values represent different states (empty space, black stone, white stone). 0 represents no stones, 1 represents player 1's stone, 2 represents player 2s's stone. \n",
    "\n",
    "We will print our matrix out to the console in order to see how the game look after each move. Here is an example of how our console will look when we print the board. \n",
    "\n",
    "![image](../../assets/img/gobangconsole.png)\n"
   ]
  },
  {
   "cell_type": "markdown",
   "metadata": {},
   "source": [
    "### Workflow Diagram\n",
    "\n",
    "To make the game easy to follow, let's design the structure of how the game should function. \n",
    "\n",
    "![](../../assets/img/gobangworkflowdiagram.png)\n",
    "\n",
    "All we have to do now is translate this to code. We will put the items in our workflow diagram into functions to hide away the work that is happening. We will get something that looks like this: \n",
    "\n",
    "```\n",
    "while True:\n",
    "    move1 = Player1Move(...)\n",
    "    Validate move 1 & change board\n",
    "    PrintBoard(...)\n",
    "    CheckBoard(...)\n",
    "    move2 = Player2Move(...)\n",
    "    Validate move 2 & change board\n",
    "    PrintBoard(...)\n",
    "    CheckBoard(...)\n",
    "```\n",
    "\n"
   ]
  },
  {
   "cell_type": "markdown",
   "metadata": {},
   "source": [
    "Once you understand how the game works and how we can translate this to code, we can take our starter code and begin implementing the functions. "
   ]
  }
 ],
 "metadata": {
  "interpreter": {
   "hash": "aee8b7b246df8f9039afb4144a1f6fd8d2ca17a180786b69acc140d282b71a49"
  },
  "kernelspec": {
   "display_name": "Python 3.9.2 64-bit",
   "language": "python",
   "name": "python3"
  },
  "language_info": {
   "codemirror_mode": {
    "name": "ipython",
    "version": 3
   },
   "file_extension": ".py",
   "mimetype": "text/x-python",
   "name": "python",
   "nbconvert_exporter": "python",
   "pygments_lexer": "ipython3",
   "version": "3.9.2"
  },
  "orig_nbformat": 4
 },
 "nbformat": 4,
 "nbformat_minor": 2
}
