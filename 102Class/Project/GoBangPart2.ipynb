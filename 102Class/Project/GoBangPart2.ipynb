{
 "cells": [
  {
   "cell_type": "markdown",
   "metadata": {},
   "source": [
    "# GoBang - Getting Started\n",
    "\n",
    "For this project you will begin with some starter code. Your task will be to write the code for the functions that are already there. In order to work with code that someone else wrote, we need to understand their code. \n",
    "\n",
    "Let's go in depth into each of the pieces of the starter code in order to understand how it works. Feel free to skip around and read just about the parts you do not understand. \n",
    "\n",
    "Step 1: copy and paste the following starter code to your Python editor of choice. "
   ]
  },
  {
   "cell_type": "code",
   "execution_count": null,
   "metadata": {},
   "outputs": [],
   "source": [
    "from copy import deepcopy\n",
    "from time import sleep\n",
    "from random import randint, shuffle\n",
    "\n",
    "S = 15\n",
    "dx = [1, 1, 1, 0, -1, -1, -1, 0]\n",
    "dy = [-1, 0, 1, 1, 1, 0, -1, -1]\n",
    "\n",
    "# Player 1's Part\n",
    "def Player1MoveOneStep(board, ty):\n",
    "    # Should return coordination to represent a move\n",
    "    return 1, 1\n",
    "\n",
    "\n",
    "# Player 2's Part\n",
    "def Player2MoveOneStep(board, ty):\n",
    "    # Should return coordination to represent a move\n",
    "    return 1, 1\n",
    "\n",
    "\n",
    "# Ruler's Part\n",
    "def PrintBoard(board):\n",
    "    \"\"\"Print the current board.\n",
    "    _: empty (matrix has value 0)\n",
    "    o: player 1 (matrix has value 1)\n",
    "    x: player 2 (matrix has value 2)\n",
    "    O: player 1 winning piece (matrix has value 3)\n",
    "    X: player 2 winning piece (matrix has value 4)\n",
    "    \"\"\"\n",
    "    return\n",
    "\n",
    "\n",
    "def CheckBoard(board):\n",
    "    \"\"\"Check if the game is finished.\n",
    "    If so, print the final board and exit the program.\n",
    "    \"\"\"\n",
    "    return\n",
    "    \n",
    "\n",
    "\n",
    "if __name__ == \"__main__\":\n",
    "    # Here the ruler organize the game and ask players to act by turns.\n",
    "    type1 = int(input(\"Player 1:\\n1) Human \\n2) AI \\nType 1 or 2: \"))\n",
    "    type2 = int(input(\"Player 2:\\n1) Human \\n2) AI \\nType 1 or 2: \"))\n",
    "    assert type1 in {1, 2} and type2 in {1, 2}\n",
    "    turn = 0\n",
    "    board = [[0 for j in range(S)] for i in range(S)]\n",
    "    PrintBoard(board)\n",
    "    while (True):\n",
    "        turn += 1\n",
    "        print(\"=========== turn {} ===========\".format(turn))\n",
    "        # Player1's turn\n",
    "        x, y = Player1MoveOneStep(deepcopy(board), type1)\n",
    "        if 0 <= x and x < S and 0 <= y and y < S and board[x][y] == 0:\n",
    "            board[x][y] = 1\n",
    "        else:\n",
    "            print(\"Player1 breaks the rule\")\n",
    "            exit(0)\n",
    "        PrintBoard(board)\n",
    "        CheckBoard(board)\n",
    "        sleep(0.2)\n",
    "\n",
    "        # Player2's turn\n",
    "        x, y = Player2MoveOneStep(deepcopy(board), type2)\n",
    "        if 0 <= x and x < S and 0 <= y and y < S and board[x][y] == 0:\n",
    "            board[x][y] = 2\n",
    "        else:\n",
    "            print(\"Player2 breaks the rule\")\n",
    "            exit(0)\n",
    "        PrintBoard(board)\n",
    "        CheckBoard(board)\n",
    "        sleep(0.2)"
   ]
  },
  {
   "cell_type": "markdown",
   "metadata": {},
   "source": [
    "### Import Statements\n",
    "\n",
    "***Copy and deep copy***\n",
    "\n",
    "Read more about it [here](https://docs.python.org/3/library/copy.html) <br>\n",
    "When we use the = sign to give some variable a value, it does not make a copy of it. It is binded to the original. Let's take a look at an example of this. "
   ]
  },
  {
   "cell_type": "code",
   "execution_count": 2,
   "metadata": {},
   "outputs": [
    {
     "name": "stdout",
     "output_type": "stream",
     "text": [
      "[0, 2, 3] [0, 2, 3]\n"
     ]
    }
   ],
   "source": [
    "a = [1, 2, 3]\n",
    "b = a # here, b is binded to a\n",
    "b[0] = 0 # so when we update b, we are really updating a\n",
    "print(a, b)"
   ]
  },
  {
   "cell_type": "markdown",
   "metadata": {},
   "source": [
    "This is very dangerous! That means that if we create new variables from existing values and update their values, they become changed in the original! \n",
    "\n",
    "To fix this problem we need to instead make a copy. Let's try again. "
   ]
  },
  {
   "cell_type": "code",
   "execution_count": 4,
   "metadata": {},
   "outputs": [
    {
     "name": "stdout",
     "output_type": "stream",
     "text": [
      "[1, 2, 3] [0, 2, 3]\n"
     ]
    }
   ],
   "source": [
    "import copy\n",
    "a = [1, 2, 3]\n",
    "b = copy.copy(a)\n",
    "b[0] = 0\n",
    "print(a, b)"
   ]
  },
  {
   "cell_type": "markdown",
   "metadata": {},
   "source": [
    "Deep Copy is similar to copy, but it allows us to copy deeper levels. The reason we need this is because a matrix is a list of lists and so we have to copy more than 1 level deep. \n",
    "\n",
    "We can see how this protects our original list but why did the author of this code include this in the project?\n",
    "\n",
    "When we pass our matrix (board) to our function our task is to calcualte the row and column position of where the piece is going to be played (either selected by human or decided by AI). We want to look at the board but ***not*** make any changes. Although deep copy is not entirely necessary to build the game, it is a great safety procedure for us and makes a lot of sense in this context!\n",
    "\n",
    "\n"
   ]
  },
  {
   "cell_type": "markdown",
   "metadata": {},
   "source": [
    "***Time and Sleep***\n",
    "\n",
    "Time is a library we can use for all sorts of useful functions. \n",
    "\n",
    "We will use the sleep function from time to slow our game down and make it feel more like a board game. Computers process information really fast and sometimes we want to slow this down to improve gameplay. \n",
    "\n",
    "You can read more about it [here](https://docs.python.org/3/library/time.html#time.sleep)"
   ]
  },
  {
   "cell_type": "markdown",
   "metadata": {},
   "source": [
    "***Random, RandInt and Shuffle***\n",
    "\n",
    "Random is another useful library that allows us to generate random numbers. randint and shuffle are two very popular functions that help us to generate random integers or shuffle a list in place. \n",
    "\n",
    "Note - You will only use this if you have time to implement the AI portion of the project. ***This is not used for Human vs. Human version***. "
   ]
  },
  {
   "cell_type": "markdown",
   "metadata": {},
   "source": [
    "### Dx and Dy Lists\n",
    "\n",
    "These represent the 8 different directions we can travel from some position in the board. \n",
    "\n",
    "Suppose we are at position i, j. Let's add index 0 of dx to i and index 0 of dy to j. \n",
    "\n",
    "i + 1\n",
    "j + (-1)\n",
    "\n",
    "This new changed i and j represent the cell to the bottom left corner. Check the image to see how we can access all the neighbors. You may or may not choose to use the direction lists, but it is there to help you if needed. It will make your code ***a lot*** shorter!\n",
    "\n",
    "![](../../assets/img/directionmatrix.png)"
   ]
  },
  {
   "cell_type": "markdown",
   "metadata": {},
   "source": [
    "### if \\__name__ == \"\\__main__\"\n",
    "\n",
    "When your file is read by the Python interpreter, it first sets the values of some special variables. One of these variables is called \\__name__. \n",
    "\n",
    "If your file is the main program, then the name variable will be updated to main. Let's say you were writing some code that is imported by another Python program, the name will not be set to main. \n",
    "\n",
    "Do we really need this for our simple game? No. However, it was a good safety measure implemented by the author to make sure our main code is in the right place and it allows us to learn more about how the Python language works. \n"
   ]
  },
  {
   "cell_type": "markdown",
   "metadata": {},
   "source": [
    "### \"{}\".format()\n",
    "\n",
    "Although it looks scary, it is just a nice way to format strings in Python. This makes things easier when we want to print a mix of variables and strings. We take the value or values from the format and place them where they belong in the string. \n",
    "\n",
    "Take a look at some of these simple examples:"
   ]
  },
  {
   "cell_type": "code",
   "execution_count": 8,
   "metadata": {},
   "outputs": [
    {
     "name": "stdout",
     "output_type": "stream",
     "text": [
      "We are in the 102P class and it is 2022.\n",
      "There have been 5 turns so far.\n"
     ]
    }
   ],
   "source": [
    "print(\"We are in the {name} class and it is {year}.\".format(name = \"102P\", year = 2022))\n",
    "turn = 5\n",
    "print(\"There have been {} turns so far.\".format(turn))"
   ]
  },
  {
   "cell_type": "markdown",
   "metadata": {},
   "source": [
    "Note - When we use the empty {} it will use the variables in the order we listed them in the .format"
   ]
  },
  {
   "cell_type": "markdown",
   "metadata": {},
   "source": [
    "### exit(0)\n",
    "\n",
    "When this line is read, the program terminates. Since we will have an infinate loop, when we check the game has been one we can exit the loop and finish the program by using exit(0).\n",
    "\n",
    "You can read more about exit commands in Python [here](https://www.geeksforgeeks.org/python-exit-commands-quit-exit-sys-exit-and-os-_exit/)."
   ]
  },
  {
   "cell_type": "markdown",
   "metadata": {},
   "source": [
    "### How to Begin\n",
    "\n",
    "Start by writing the PrintBoard function. See if you can make it look exactly like the sample output. Delete the return statement and begin writing. \n",
    "\n",
    "Remember: each position in the matrix will have 1 of 5 possible values. \n",
    "0 - empty position\n",
    "1 - player 1 stone\n",
    "2 - player 2 stone\n",
    "3 - tile that was part of winning 5 tiles for player 1 (only marked this value after checkwin is confirmed)\n",
    "4 - tile that was part of winning 5 tiles for player 2 (only marked this value after checkwin is confirmed)"
   ]
  }
 ],
 "metadata": {
  "interpreter": {
   "hash": "aee8b7b246df8f9039afb4144a1f6fd8d2ca17a180786b69acc140d282b71a49"
  },
  "kernelspec": {
   "display_name": "Python 3.9.2 64-bit",
   "language": "python",
   "name": "python3"
  },
  "language_info": {
   "codemirror_mode": {
    "name": "ipython",
    "version": 3
   },
   "file_extension": ".py",
   "mimetype": "text/x-python",
   "name": "python",
   "nbconvert_exporter": "python",
   "pygments_lexer": "ipython3",
   "version": "3.9.2"
  },
  "orig_nbformat": 4
 },
 "nbformat": 4,
 "nbformat_minor": 2
}
