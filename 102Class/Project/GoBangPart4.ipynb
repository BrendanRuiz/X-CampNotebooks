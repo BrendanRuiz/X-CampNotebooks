{
 "cells": [
  {
   "cell_type": "markdown",
   "metadata": {},
   "source": [
    "# GoBang - CheckBoard"
   ]
  },
  {
   "cell_type": "markdown",
   "metadata": {},
   "source": [
    "Now we have to check to see if a player has won the game. First we need to remember the win condition: \n",
    "\n",
    "> A player wins the game if they have 5 consecutive pieces in a row either vertically, horizontally or diagonally. \n",
    "\n",
    "This means that we need to check each cell in the board and visit the neighbors around. Let's take a look at the neighboring cells we need to visit for each cell to confirm a win condition. \n",
    "\n",
    "<image src=\"../../assets/img/checkboard.png\" width=\"300\">\n",
    "\n"
   ]
  },
  {
   "cell_type": "markdown",
   "metadata": {},
   "source": [
    "We need to be a little bit careful because not all cells will allows us to visit this far in all directions. Imagine you are at the position (2, 0). If we go left it is out bounds and if we go up past (0, 0) we go out of bounds as well. Take a look at the visualization. \n",
    "\n",
    "<image src=\"../../assets/img/checkboardedgecase.png\" width=\"300\">"
   ]
  },
  {
   "cell_type": "markdown",
   "metadata": {},
   "source": [
    "Say we are at some position (x, y) in the board. Here is how we can move in all directions: \n",
    "\n",
    "Left bottom diagonal: x + 1, y - 1 <br>\n",
    "Down: x + 1, y + 0<br>\n",
    "Right bottom diagonal: x + 1, y + 1<br>\n",
    "Right: x + 0, y + 1<br>\n",
    "Right upper diagonal: x - 1, y + 1<br>\n",
    "Up: x - 1, y - 0<br>\n",
    "Left upper diagonal: x - 1, y - 1<br>\n",
    "Left: x + 0, y - 1<br>\n",
    "\n",
    "Putting this together:\n",
    "\n",
    "We can loop 8 times (1 time per direction) and use dx[i] and dy[i] in order to access some direction. "
   ]
  },
  {
   "cell_type": "code",
   "execution_count": 4,
   "metadata": {},
   "outputs": [
    {
     "name": "stdout",
     "output_type": "stream",
     "text": [
      "visiting cell: 7\n",
      "visiting cell: 8\n",
      "visiting cell: 9\n",
      "visiting cell: 6\n",
      "visiting cell: 3\n",
      "visiting cell: 2\n",
      "visiting cell: 1\n",
      "visiting cell: 4\n"
     ]
    }
   ],
   "source": [
    "board = [\n",
    "    [1, 2, 3],\n",
    "    [4, 5, 6],\n",
    "    [7, 8, 9]\n",
    "]\n",
    "\n",
    "dx = [1, 1, 1, 0, -1, -1, -1, 0]\n",
    "dy = [-1, 0, 1, 1, 1, 0, -1, -1]\n",
    "\n",
    "cur_x = 1\n",
    "cur_y = 1\n",
    "for i in range(8):\n",
    "    print('visiting cell:', board[cur_x + dx[i]][cur_y + dy[i]])\n"
   ]
  },
  {
   "cell_type": "markdown",
   "metadata": {},
   "source": [
    "Now let's loop from each of these positions out by 5 steps. We can multiply our x and y direction by some index 'i' in order to step out five steps in each direction. \n",
    "\n",
    "To help visualize this step, let's make a board of coordinates to see which values we are visiting. "
   ]
  },
  {
   "cell_type": "code",
   "execution_count": 8,
   "metadata": {},
   "outputs": [
    {
     "name": "stdout",
     "output_type": "stream",
     "text": [
      "00 01 02 03 04 05 06 07 08\n",
      "10 11 12 13 14 15 16 17 18\n",
      "20 21 22 23 24 25 26 27 28\n",
      "30 31 32 33 34 35 36 37 38\n",
      "40 41 42 43 44 45 46 47 48\n",
      "50 51 52 53 54 55 56 57 58\n",
      "60 61 62 63 64 65 66 67 68\n",
      "70 71 72 73 74 75 76 77 78\n",
      "80 81 82 83 84 85 86 87 88\n"
     ]
    }
   ],
   "source": [
    "big_board = [[str(i) + str(j) for j in range(9)] for i in range(9)]\n",
    "\n",
    "for row in big_board:\n",
    "    print(*row)"
   ]
  },
  {
   "cell_type": "markdown",
   "metadata": {},
   "source": [
    "Now, let's start at index (4, 4) and visit the neighbors in all 8 directions. "
   ]
  },
  {
   "cell_type": "code",
   "execution_count": 20,
   "metadata": {},
   "outputs": [
    {
     "name": "stdout",
     "output_type": "stream",
     "text": [
      "visiting cells in the 1 -1 direction: 44 53 62 71 80 \n",
      "visiting cells in the 1 0 direction: 44 54 64 74 84 \n",
      "visiting cells in the 1 1 direction: 44 55 66 77 88 \n",
      "visiting cells in the 0 1 direction: 44 45 46 47 48 \n",
      "visiting cells in the -1 1 direction: 44 35 26 17 08 \n",
      "visiting cells in the -1 0 direction: 44 34 24 14 04 \n",
      "visiting cells in the -1 -1 direction: 44 33 22 11 00 \n",
      "visiting cells in the 0 -1 direction: 44 43 42 41 40 \n"
     ]
    }
   ],
   "source": [
    "dx = [1, 1, 1, 0, -1, -1, -1, 0]\n",
    "dy = [-1, 0, 1, 1, 1, 0, -1, -1]\n",
    "cur_x = 4\n",
    "cur_y = 4\n",
    "\n",
    "for d in range(8):\n",
    "    print('visiting cells in the', dx[d], dy[d], 'direction:', end = ' ')\n",
    "    for i in range(5):\n",
    "        print(big_board[cur_x + (dx[d] * i)][cur_y + (dy[d] * i)], end = ' ')\n",
    "    print()\n"
   ]
  },
  {
   "cell_type": "markdown",
   "metadata": {},
   "source": [
    "Here is how your general CheckBoard function should look like: \n",
    "\n",
    "```\n",
    "for x in range(S):\n",
    "    for y in range(S):\n",
    "        for d in range(8):\n",
    "            if the furthest x and y in this direction go out of bounds:\n",
    "                continue\n",
    "            valid = True\n",
    "            for i in range(5):\n",
    "                if the cell being visited does not match (x, y):\n",
    "                    valid = False\n",
    "            if valid == True:\n",
    "                print(\"Player{} wins the game!\\n\".format(board[x][y]))\n",
    "                for i in range(5):\n",
    "                    add 2 to each of these cells to mark the winning pieces\n",
    "                PrintBoard(board)\n",
    "                exit(0)\n",
    "Iterate over matrix and if we don't see any 0's:\n",
    "    print(\"Draw!\")\n",
    "    exit(0)          \n",
    "```\n",
    "\n"
   ]
  }
 ],
 "metadata": {
  "interpreter": {
   "hash": "aee8b7b246df8f9039afb4144a1f6fd8d2ca17a180786b69acc140d282b71a49"
  },
  "kernelspec": {
   "display_name": "Python 3.9.2 64-bit",
   "language": "python",
   "name": "python3"
  },
  "language_info": {
   "codemirror_mode": {
    "name": "ipython",
    "version": 3
   },
   "file_extension": ".py",
   "mimetype": "text/x-python",
   "name": "python",
   "nbconvert_exporter": "python",
   "pygments_lexer": "ipython3",
   "version": "3.9.2"
  },
  "orig_nbformat": 4
 },
 "nbformat": 4,
 "nbformat_minor": 2
}
