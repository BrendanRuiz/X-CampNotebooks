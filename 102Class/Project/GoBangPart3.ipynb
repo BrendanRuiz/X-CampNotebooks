{
 "cells": [
  {
   "cell_type": "markdown",
   "metadata": {},
   "source": [
    "# Gobang - Player1/Player2 Move One Step\n",
    "\n",
    "\n",
    "Now that you have written the PrintBoard function, it is time to move on to writing the Player1MoveOneStep and Player2MoveOneStep functions. \n",
    "\n",
    "First, let's understand the purpose of this function so we know exactly why we need it. Here is our general game structure:\n",
    "\n",
    "```\n",
    "PrintBoard(board)\n",
    "while True:\n",
    "    Player1moveOneStep(board, type1)\n",
    "    check if coordinates are valid\n",
    "    if valid --> Printboard(board) and CheckBoard(board)\n",
    "    else --> exit the game\n",
    "\n",
    "    Here, do the same but for player 2\n",
    "```\n",
    "\n",
    "To get more insight, let's look at the parameters and return value of the function. "
   ]
  },
  {
   "cell_type": "code",
   "execution_count": 1,
   "metadata": {},
   "outputs": [],
   "source": [
    "# Player 1's Part\n",
    "def Player1MoveOneStep(board, ty):\n",
    "    # Should return coordination to represent a move\n",
    "    return 1, 1"
   ]
  },
  {
   "cell_type": "markdown",
   "metadata": {},
   "source": [
    "### Parameters\n",
    "\n",
    "***board***\n",
    "\n",
    "Why do we need to pass the board as a parameter? \n",
    "\n",
    "Answer: For Human vs. Human we don't. The human will look at the board at the console and enter the position they wish to make their move. The board is passed as a parameter for the AI version. The AI will need to look at the board to see which positions are available and calculate its next move. \n",
    "\n",
    "***ty***\n",
    "\n",
    "Why do we need ty?\n",
    "\n",
    "Ty stands for type. This is to help us know who will make the decision between the human and the AI. "
   ]
  },
  {
   "cell_type": "markdown",
   "metadata": {},
   "source": [
    "### Return value\n",
    "\n",
    "We will return a list of size 2. This will be our x and y coordinate of the move the player is making. You may be confused since the current return value says 1, 1. Check the following example to understand that this is a list! This is a special type of list that cannot be changed called a tuple. "
   ]
  },
  {
   "cell_type": "code",
   "execution_count": 2,
   "metadata": {},
   "outputs": [
    {
     "name": "stdout",
     "output_type": "stream",
     "text": [
      "<class 'tuple'>\n"
     ]
    }
   ],
   "source": [
    "def test():\n",
    "    return 1, 1\n",
    "\n",
    "ans = test()\n",
    "print(type(ans))"
   ]
  },
  {
   "cell_type": "markdown",
   "metadata": {},
   "source": [
    "### Step 1\n",
    "\n",
    "The first thing we need to do to get started is set up our general structure of the function. Remember, we want to write our code for the human version first. Your code may look something like: \n",
    "\n",
    "```\n",
    "def Player1MoveOneStep(board, ty):\n",
    "    if ty == 1:\n",
    "        # write our code for human here\n",
    "        # return x y coordinates for human  \n",
    "    else:\n",
    "        # write our code for AI (later on) here. choose 1, 1 as default for now\n",
    "```"
   ]
  },
  {
   "cell_type": "markdown",
   "metadata": {},
   "source": [
    "Now we need to collect our user input to know which coordinates the player wants to put their piece. Enter the following line into your code. It should now look like:"
   ]
  },
  {
   "cell_type": "code",
   "execution_count": 3,
   "metadata": {},
   "outputs": [],
   "source": [
    "def Player1MoveOneStep(board, ty):\n",
    "    if ty == 1:\n",
    "        s = input(\"Player1, enter your next step \\\"[1..9|a..f][1..9|a..f]\\\" (row first, no space)\\n>>> \")\n",
    "    else:\n",
    "        return 1, 1"
   ]
  },
  {
   "cell_type": "markdown",
   "metadata": {},
   "source": [
    "Now, player1 will make their choice and give a command such as 12 or a5. Our job is to figure our the x and y coordinates of this command. Here are some hints to help you figure our this last step."
   ]
  },
  {
   "cell_type": "markdown",
   "metadata": {},
   "source": [
    "### Hints\n",
    "\n",
    "How do I separate the input?\n",
    "\n",
    "Remember, the input is a string. You can use s[0] and s[1] to get the two values you need to convert. \n",
    "\n",
    "What do I do if the input entered has letters? How do I convert that? For example ab, which referes to the position (10, 11).\n",
    "\n",
    "Ideas: \n",
    "1. Create a list a-f and use the index of the letter to help find the position. Add the position to 9 to get its real position. \n",
    "1. Use ASCII value. Figure out the number you need to subtract by to get the correct position. Remember ord() gets ASCII value. \n",
    "1. Convert from Hexadecimal to Integer value. If you have any experience with hex numbers you may realize the board choices are an exact match. You can look up how to convert from hex to int and take this value. You may find [this](https://stackoverflow.com/questions/209513/convert-hex-string-to-int-in-python) post of use. \n",
    "\n",
    "\n",
    "Remember!! Board is 0 indexed. That means after you convert you x and y values you need to shift them down. For example a move of ff would represent the position (15, 15). This index does not exist in the board since board[14][14] is the bottom right-most value.\n"
   ]
  }
 ],
 "metadata": {
  "interpreter": {
   "hash": "aee8b7b246df8f9039afb4144a1f6fd8d2ca17a180786b69acc140d282b71a49"
  },
  "kernelspec": {
   "display_name": "Python 3.9.2 64-bit",
   "language": "python",
   "name": "python3"
  },
  "language_info": {
   "codemirror_mode": {
    "name": "ipython",
    "version": 3
   },
   "file_extension": ".py",
   "mimetype": "text/x-python",
   "name": "python",
   "nbconvert_exporter": "python",
   "pygments_lexer": "ipython3",
   "version": "3.9.2"
  },
  "orig_nbformat": 4
 },
 "nbformat": 4,
 "nbformat_minor": 2
}
