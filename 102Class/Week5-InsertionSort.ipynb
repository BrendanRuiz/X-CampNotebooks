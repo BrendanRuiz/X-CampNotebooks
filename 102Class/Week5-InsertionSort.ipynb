{
 "cells": [
  {
   "cell_type": "markdown",
   "metadata": {},
   "source": [
    "# Insertion Sort\n",
    "---\n"
   ]
  },
  {
   "cell_type": "markdown",
   "metadata": {},
   "source": [
    "With insertion sort, we will again try to solve the same problem of taking a list of items and arranging them in order. Let's first start with the idea and at the end we will compare this new method against the ones we already know. \n",
    "\n",
    "<div class=\"alert alert-block alert-info\">\n",
    "    <b>Idea:<b> Scan each number in the unsorted section 1 by 1 and insert into the correct position of the sorted section.\n",
    "</div>"
   ]
  },
  {
   "cell_type": "markdown",
   "metadata": {},
   "source": [
    "<img src=\"https://www.w3resource.com/w3r_images/insertion-sort.png\" />\n",
    "<br><br>\n",
    "Check out the animation to watch the numbers scan and swap.\n",
    "<br><br>\n",
    "<img src=\"http://www.xybernetics.com/techtalk/SortingAlgorithmsExplained/images/InsertionEg01.gif\" />"
   ]
  },
  {
   "cell_type": "markdown",
   "metadata": {},
   "source": [
    "## Key Points\n",
    "\n",
    "**Start**\n",
    "* Before we begin we need a sorted and unsorted section.\n",
    "* Sorted section will be `list[0]` and `list[1 to len(list) - 1]` will be our unsorted section.\n",
    "\n",
    "Why?\n",
    "\n",
    "* A list of size 1 is the biggest list we can create that is guaranteed to be sorted without doing any work!\n",
    "\n",
    "**Loop**\n",
    "* We will iterate (loop over) the second item all the way to the end (unsorted section). \n",
    "* As we take each item, we will move it to the sorted section, placing it in the order it belongs. \n",
    "\n",
    "Easy enough so far, but how do we know where to insert into the sorted section?\n",
    "\n",
    "* We must define our key opertation - insertion!\n",
    "\n",
    "**Insertion**\n",
    "* Loop backwards in our list, going only as far as the start. \n",
    "* Compare the item against the one before it. If it is smaller, move the item before up to the current position.   \n",
    "* Once this condition is no longer true, we have found the correct location to place our item. Set the current position to our item. \n",
    "\n",
    "<div class=\"alert alert-block alert-info\">\n",
    "<b>Pseudo Code</b><br>\n",
    "for second item to last item in our list:<br>\n",
    "&nbsp;hold onto our current item for comparisons<br>\n",
    "&nbsp;for our current position until start of our list: <br>\n",
    "&nbsp;&nbsp;if our item is less than our current position value, move this into our current position<br>\n",
    "&nbsp;&nbsp;else it is in the right place and we can place our value and break our inner loop<b>\n",
    "</div>"
   ]
  },
  {
   "cell_type": "code",
   "execution_count": null,
   "metadata": {},
   "outputs": [],
   "source": []
  }
 ],
 "metadata": {
  "language_info": {
   "name": "python"
  },
  "orig_nbformat": 4
 },
 "nbformat": 4,
 "nbformat_minor": 2
}
