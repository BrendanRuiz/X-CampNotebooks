{
 "cells": [
  {
   "cell_type": "markdown",
   "metadata": {},
   "source": [
    "# Insertion Sort\n",
    "---\n"
   ]
  },
  {
   "cell_type": "markdown",
   "metadata": {},
   "source": [
    "With insertion sort, we will again try to solve the same problem of taking a list of items and arranging them in order. Let's first start with the idea and at the end we will compare this new method against the ones we already know. \n",
    "\n",
    "<div class=\"alert alert-block alert-info\">\n",
    "    <b>Idea:</b> Scan each number in the unsorted section 1 by 1 and insert into the correct position of the sorted section.\n",
    "</div>"
   ]
  },
  {
   "cell_type": "markdown",
   "metadata": {},
   "source": [
    "<img src=\"https://www.w3resource.com/w3r_images/insertion-sort.png\" />\n",
    "<br><br>\n",
    "Check out the animation to watch the numbers scan and swap.\n",
    "<br><br>\n",
    "<img src=\"http://www.xybernetics.com/techtalk/SortingAlgorithmsExplained/images/InsertionEg01.gif\" />"
   ]
  },
  {
   "cell_type": "markdown",
   "metadata": {},
   "source": [
    "## Key Points\n",
    "\n",
    "**Start**\n",
    "* Before we begin we need a sorted and unsorted section.\n",
    "* Sorted section will be `list[0]` and `list[1 to len(list) - 1]` will be our unsorted section.\n",
    "\n",
    "Why?\n",
    "\n",
    "* A list of size 1 is the biggest list we can create that is guaranteed to be sorted without doing any work!\n",
    "\n",
    "**Loop**\n",
    "* We will iterate (loop over) the second item all the way to the end (unsorted section). \n",
    "* As we take each item, we will move it to the sorted section, placing it in the order it belongs. \n",
    "\n",
    "Easy enough so far, but how do we know where to insert into the sorted section?\n",
    "\n",
    "* We must define our key opertation - insertion!\n",
    "\n",
    "**Insertion**\n",
    "* Loop backwards in our list, going only as far as the start. \n",
    "* Compare the item against the one before it. If it is smaller, move the item before up to the current position.   \n",
    "* Once this condition is no longer true, we have found the correct location to place our item. Set the current position to our item. \n",
    "\n",
    "<div class=\"alert alert-block alert-info\">\n",
    "<b>Pseudo Code</b><br>\n",
    "for second item to last item in our list:<br>\n",
    "&nbsp;hold onto our current item for comparisons<br>\n",
    "&nbsp;for our current position until start of our list: <br>\n",
    "&nbsp;&nbsp;if our item is less than our current position value, move this into our current position<br>\n",
    "&nbsp;&nbsp;else it is in the right place and we can place our value and break our inner loop<b>\n",
    "</div>\n",
    "\n",
    "Let's put this together to see how the actual code will work!"
   ]
  },
  {
   "cell_type": "code",
   "execution_count": 23,
   "metadata": {},
   "outputs": [
    {
     "name": "stdout",
     "output_type": "stream",
     "text": [
      "[1, 2, 4, 7, 8, 9]\n"
     ]
    }
   ],
   "source": [
    "# before we begin, sorted section = 4\n",
    "# unsorted = 2, 1, 8, 9, 7\n",
    "lst = [4, 2, 1, 8, 9, 7]\n",
    "\n",
    "for i in range(1, len(lst)):\n",
    "    curr_itm = lst[i] # this is the item we will move to the sorted section, looking for the right place\n",
    "    for j in range(i, -1, -1):\n",
    "        if curr_itm < lst[j - 1] and j > 0:\n",
    "            lst[j] = lst[j - 1]\n",
    "        else:\n",
    "            lst[j] = curr_itm\n",
    "            break\n",
    "\n",
    "print(lst)\n"
   ]
  },
  {
   "cell_type": "markdown",
   "metadata": {},
   "source": [
    "Now we have 3 different ways of sorting a list. Last week we compared bubble sort against selection sort, and we saw from our test that selection sort (in most cases, not all!) is a much better sorting method in that it can get to the answer much quicker. How does insertion sort compare to selection sort? Let's test these two methods to see which one is the better option for us to use, and also compare in different cases. \n",
    "\n",
    "First, let's test the average case where we generate a random list of numbers that will be used on both of our sorting methods. "
   ]
  },
  {
   "cell_type": "code",
   "execution_count": 25,
   "metadata": {},
   "outputs": [
    {
     "name": "stdout",
     "output_type": "stream",
     "text": [
      "the total time for selection sort is: 0:00:03.296738\n",
      "the total time for insertion sort is: 0:00:03.901349\n"
     ]
    }
   ],
   "source": [
    "import random\n",
    "import datetime\n",
    "\n",
    "# generate some data for us to test\n",
    "selection_lst = []\n",
    "insertion_lst = []\n",
    "lst_size = 10000\n",
    "max_val = 10000\n",
    "\n",
    "for i in range(lst_size):\n",
    "    num = random.randint(0, max_val)\n",
    "    selection_lst.append(num)\n",
    "    insertion_lst.append(num)\n",
    "\n",
    "# write our functions\n",
    "def selection(l):\n",
    "    n = len(l)\n",
    "    for i in range(n - 1):\n",
    "        pos_of_min = i\n",
    "        for j in range(i + 1, n):\n",
    "            if l[j] < l[pos_of_min]:\n",
    "                pos_of_min = j\n",
    "        l[i], l[pos_of_min] = l[pos_of_min], l[i]\n",
    "\n",
    "def insertion(l):\n",
    "    n = len(l)\n",
    "    for i in range(1, n):\n",
    "        curr_itm = l[i] \n",
    "        for j in range(i, -1, -1):\n",
    "            if curr_itm < l[j - 1] and j > 0:\n",
    "                l[j] = l[j - 1]\n",
    "            else:\n",
    "                l[j] = curr_itm\n",
    "                break\n",
    "\n",
    "# test\n",
    "start = datetime.datetime.now()\n",
    "selection(selection_lst)\n",
    "total_time = datetime.datetime.now() - start\n",
    "print('the total time for selection sort is:', total_time)\n",
    "\n",
    "start = datetime.datetime.now()\n",
    "insertion(insertion_lst)\n",
    "total_time = datetime.datetime.now() - start\n",
    "print('the total time for insertion sort is:', total_time)"
   ]
  },
  {
   "cell_type": "markdown",
   "metadata": {},
   "source": [
    "<div class=\"alert alert-block alert-warning\">\n",
    "    Selection and insertion sort are very similar in performance in the <b>average</b> case. Selection sort starts with the position, and finds the number that should be placed there. Insertion starts with the number and finds the position. \n",
    "</div>"
   ]
  },
  {
   "cell_type": "markdown",
   "metadata": {},
   "source": [
    "This test is so close that really we would need to run it hundreds more times (using larger list size) and compare the results to verify selection sort really has the slight edge. In practice we say that the performance is the same. But is that true for all cases? Lets consider the following situation. Imagine you are given a list of numbers that is already sorted but you are not aware. We will pass this sorted list to our two sorting methods to see the difference. "
   ]
  },
  {
   "cell_type": "code",
   "execution_count": 26,
   "metadata": {},
   "outputs": [
    {
     "name": "stdout",
     "output_type": "stream",
     "text": [
      "the total time for best case selection sort is: 0:00:03.167065\n",
      "the total time for best case insertion sort is: 0:00:00.003196\n"
     ]
    }
   ],
   "source": [
    "sorted_selection_lst = []\n",
    "sorted_insertion_lst = []\n",
    "\n",
    "for i in range(lst_size):\n",
    "    sorted_selection_lst.append(i)\n",
    "    sorted_insertion_lst.append(i)\n",
    "\n",
    "start = datetime.datetime.now()\n",
    "selection(sorted_selection_lst)\n",
    "total_time = datetime.datetime.now() - start\n",
    "print('the total time for best case selection sort is:', total_time)\n",
    "\n",
    "start = datetime.datetime.now()\n",
    "insertion(sorted_insertion_lst)\n",
    "total_time = datetime.datetime.now() - start\n",
    "print('the total time for best case insertion sort is:', total_time)\n"
   ]
  },
  {
   "cell_type": "markdown",
   "metadata": {},
   "source": [
    "<div class=\"alert alert-block alert-success\">\n",
    "Insertion sort is much better than selection sort in the <b>best case scenerio</b>. \n",
    "</div>\n",
    "\n",
    "Why?\n",
    "\n",
    "For insertsion sort on a sorted list, for each value we will scan backwards to see where it belong. However, we notice that we never actually move backwards because each item is already in the correct place!\n",
    "\n",
    "For selection sort on a sorted list, it still needs to loop through the unsorted section to verify it has found the smallest value. Therfore it is doing way more work. \n",
    "\n",
    "## Conclusion\n",
    "\n",
    "In the worst case scenero, insertion sort will perform the same as selection sort. However, usually we come across the average case. Thefore, we can conclude that for an average list, we will have better performance than selection sort. Currently insertion sort is our best method for sorting an average list of items. "
   ]
  }
 ],
 "metadata": {
  "interpreter": {
   "hash": "aee8b7b246df8f9039afb4144a1f6fd8d2ca17a180786b69acc140d282b71a49"
  },
  "kernelspec": {
   "display_name": "Python 3.9.2 64-bit",
   "language": "python",
   "name": "python3"
  },
  "language_info": {
   "codemirror_mode": {
    "name": "ipython",
    "version": 3
   },
   "file_extension": ".py",
   "mimetype": "text/x-python",
   "name": "python",
   "nbconvert_exporter": "python",
   "pygments_lexer": "ipython3",
   "version": "3.9.2"
  },
  "orig_nbformat": 4
 },
 "nbformat": 4,
 "nbformat_minor": 2
}
