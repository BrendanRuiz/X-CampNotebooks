{
 "cells": [
  {
   "cell_type": "markdown",
   "metadata": {},
   "source": [
    "# Matrix and its Application\n",
    "---"
   ]
  },
  {
   "cell_type": "markdown",
   "metadata": {},
   "source": [
    "## Applications of the matrix\n",
    "\n",
    "Matrices are used in all fields of science. They can be used for plotting graphs and solving puzzles. In computers they can be used for generating images and solving dynamic prgramming problems. In mathematics and economics they can be used for solving systems of equations. The use cases for matrices are endless!\n",
    "\n",
    "<img src=\"https://cdn.britannica.com/42/97142-131-E3E24AA5/sudoku-puzzle-games.jpg\" alt=\"drawing\" width=\"500\"/>\n",
    "\n",
    "Here is an example of the famous matrix game, sudoku!"
   ]
  },
  {
   "cell_type": "markdown",
   "metadata": {},
   "source": [
    "## Review\n",
    "\n",
    "Remember that a matrix is represented by a list of lists. Therefore, we can traverse our list, stopping at each list to iterate over all of its items. We can do so with a nested loop like: \n",
    "\n",
    "\n",
    "```\n",
    "for lst in matrix:\n",
    "    for itm in lst:\n",
    "        # do something with itm\n",
    "```\n",
    "\n",
    "In this method, we will visit each item in the row before we move down to the next row. But what if we want to visit cells in our matrix in another way?\n",
    "\n",
    "Let's say your teacher asked you to take your rows of your matrix and turn them into columns instead. For example:\n",
    "\n",
    "this matrix\n",
    "\\begin{bmatrix}\n",
    "   a & b & c\\\\\n",
    "   d & e & f\n",
    "\\end{bmatrix}\n",
    "turns into this\n",
    "\\begin{bmatrix}\n",
    "   a & d\\\\\n",
    "   b & e \\\\\n",
    "   c & f \\\\\n",
    "\\end{bmatrix}\n",
    "\n",
    "*(In mathematics we call this the transpose of the matrix)*\n",
    "\n",
    "Idea: we can use two indices to access specific values in our matrix. We can change them to move down our column first, and then move to the next column. "
   ]
  },
  {
   "cell_type": "code",
   "execution_count": 5,
   "metadata": {},
   "outputs": [
    {
     "name": "stdout",
     "output_type": "stream",
     "text": [
      "a d \n",
      "b e \n",
      "c f \n"
     ]
    }
   ],
   "source": [
    "rows = 2\n",
    "cols = 3\n",
    "\n",
    "matrix1 = [['a', 'b', 'c'], ['d', 'e', 'f']]\n",
    "\n",
    "for i in range(cols):\n",
    "    for j in range(rows): # notice how we move down before moving to next column\n",
    "        print(matrix1[j][i], end = ' ')\n",
    "    print()\n",
    "\n"
   ]
  },
  {
   "cell_type": "markdown",
   "metadata": {},
   "source": [
    "## Matrix Diagonals\n",
    "\n",
    "What if our task is to print the two diagonals of a square matrix. How could we do this?\n",
    "\n",
    "For our top left to bottom right diagonal: \n",
    "* The row and column of the diagonal are always the exact same number\n",
    "\n",
    "For the bottom left to top right diagonal: \n",
    "* The row and column of the diagonal are inverses of each other\n",
    "\n",
    "For both examples we only need 1 for loop. Lets see how that works: "
   ]
  },
  {
   "cell_type": "code",
   "execution_count": 20,
   "metadata": {},
   "outputs": [
    {
     "name": "stdout",
     "output_type": "stream",
     "text": [
      "1 5 9 \n",
      "7 5 3 "
     ]
    }
   ],
   "source": [
    "square_matrix = [[1, 2, 3], [4, 5, 6], [7, 8, 9]]\n",
    "\n",
    "# for the top left to bottom right diagonal\n",
    "for i in range(len(square_matrix)):\n",
    "    print(square_matrix[i][i], end = ' ')\n",
    "\n",
    "print()\n",
    "\n",
    "# for the bottom left to top right diagonal\n",
    "for i in range(len(square_matrix)):\n",
    "    print(square_matrix[len(square_matrix) - 1 - i][i], end = ' ')"
   ]
  },
  {
   "cell_type": "markdown",
   "metadata": {},
   "source": [
    "## Count the number of 1's \n",
    "\n",
    "Can you count the number of 1's that are surrounded completely by 0's in a binary matrix? (from the north, south, east, west directions). \n",
    "Take for example the matrix:\n",
    "\\begin{bmatrix}\n",
    "   1 & 0 & 0 \\\\\n",
    "   0 & 1 & 0 \\\\\n",
    "   1 & 0 & 1\n",
    "\\end{bmatrix}\n",
    "Note that in the middle cell (1, 1) the cells directly up, down, left and right of it are 0's, so this is a valid example. \n",
    "\n",
    "Note: All the cells on the border are impossible, so we can just check the ones inside. How can we do this?\n",
    "\n",
    "Idea: loop 1 to rows - 1 on outside, loop 1 to cols - 1 on inside, check cells left, right, top, down of i, j. "
   ]
  },
  {
   "cell_type": "code",
   "execution_count": 26,
   "metadata": {},
   "outputs": [
    {
     "name": "stdout",
     "output_type": "stream",
     "text": [
      "2\n"
     ]
    }
   ],
   "source": [
    "board = [[1, 0, 1, 1], [0, 1, 0, 0], [1, 0, 1, 0], [0, 0, 0, 1]]\n",
    "ans = 0\n",
    "\n",
    "def possible(x, y):\n",
    "    # cell must be 1 to be possible ans\n",
    "    if board[x][y] == 0:\n",
    "        return False\n",
    "    # north, south, east, west neighbors can't be 1's\n",
    "    if board[x][y + 1] == 1 or board[x][y - 1] == 1 or board[x - 1][y] == 1 or board[x + 1][y] == 1:\n",
    "        return False\n",
    "    return True\n",
    "\n",
    "for i in range(1, len(board) - 1):\n",
    "    for j in range(1, len(board[0]) - 1):\n",
    "        if possible(i, j):\n",
    "            ans += 1\n",
    "\n",
    "print(ans)"
   ]
  },
  {
   "cell_type": "markdown",
   "metadata": {},
   "source": [
    "## Diagonal matrix traversal\n",
    "\n",
    "How about if we are given a sqaure m x m matrix and our task is to print all the diagonals of the matrix? How could we do that?\n",
    "\n",
    "if our matrix looks like: \n",
    "\\begin{bmatrix}\n",
    "   a & b & c\\\\\n",
    "   d & e & f\\\\\n",
    "   g & h & i\n",
    "\\end{bmatrix}\n",
    "Our ouput would look like: \n",
    "```\n",
    "a\n",
    "d b\n",
    "g e c\n",
    "h f\n",
    "i\n",
    "```\n",
    "Step 1: How many lines of ouput will there be for our outer loop? \n",
    "* $row + col - 1$ (since we go 1 to m to 1)\n",
    "\n",
    "Step 2: Find the row where you begin\n",
    "* This will go 0 to m - 1 and then stay at m - 1\n",
    "* We can find this number by taking $min(m, output\\_lines) - 1$\n",
    "\n",
    "Step 3: Find the column where you begin\n",
    "* It will be 0 until we pass the halfway point of the output lines, and then it will increase\n",
    "* We can create this by taking $max(0, output\\_line - m)$\n",
    "\n",
    "Step 4: Find how many items in each output line\n",
    "* Our output line number works perfectly until it reaches past the hald way mark! We can fix this by comparing against some data that counts down. \n",
    "* If we take m - start column this will help to give the correct numbers for the second half of the iteration\n",
    "* together we get $items = min(output\\_line, m - start\\_col)$\n",
    "\n",
    "Step 5: Iterate over diagonal\n",
    "* Remember to **subtract** $i$ for rows since our column position will decrease over the diagonal\n",
    "* Remember to **add** $i$ for columns since our column will increase over the diagonal\n",
    "\n",
    "Put all these steps together and we get..."
   ]
  },
  {
   "cell_type": "code",
   "execution_count": 13,
   "metadata": {},
   "outputs": [
    {
     "name": "stdout",
     "output_type": "stream",
     "text": [
      "a \n",
      "d b \n",
      "g e c \n",
      "h f \n",
      "i \n"
     ]
    }
   ],
   "source": [
    "m = 3\n",
    "matrix2 = [['a', 'b', 'c'], ['d', 'e', 'f'], ['g', 'h', 'i']]\n",
    "\n",
    "for output_line in range(1, m + m):\n",
    "    start_row = min(m, output_line) - 1\n",
    "    start_col = max(0, output_line - m)\n",
    "    num_items = min(output_line, m - start_col)\n",
    "    for i in range(0, num_items):\n",
    "        print(matrix2[start_row - i][start_col + i], end = ' ')\n",
    "    print()"
   ]
  }
 ],
 "metadata": {
  "interpreter": {
   "hash": "aee8b7b246df8f9039afb4144a1f6fd8d2ca17a180786b69acc140d282b71a49"
  },
  "kernelspec": {
   "display_name": "Python 3.9.2 64-bit",
   "language": "python",
   "name": "python3"
  },
  "language_info": {
   "codemirror_mode": {
    "name": "ipython",
    "version": 3
   },
   "file_extension": ".py",
   "mimetype": "text/x-python",
   "name": "python",
   "nbconvert_exporter": "python",
   "pygments_lexer": "ipython3",
   "version": "3.9.2"
  },
  "orig_nbformat": 4
 },
 "nbformat": 4,
 "nbformat_minor": 2
}
