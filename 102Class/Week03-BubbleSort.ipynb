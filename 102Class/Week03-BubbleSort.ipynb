{
 "cells": [
  {
   "cell_type": "markdown",
   "metadata": {},
   "source": [
    "# Bubble Sort\n",
    "\n",
    "---"
   ]
  },
  {
   "cell_type": "markdown",
   "metadata": {},
   "source": [
    "From week 1 we learned that we can sort a list of items using a helpful list function called sort(). How exactly does this function work? \n",
    "\n",
    "That is not such an staightforward answer since Python's sort() uses a few different strategies in order to get the fastest it can to the answer. In order to understand sorting, we must begin by learning different ways to sort items. \n",
    "\n",
    "All sorting methods are different, but are derived from the same simple task: organize a list of items in order\n",
    "\n",
    "The **Bubble sort method** is one of the easiest ways to begin. how does it work?"
   ]
  },
  {
   "cell_type": "markdown",
   "metadata": {},
   "source": [
    "### Idea\n",
    "Iterate over the list and at each position compare the item with the item that comes after it. \n",
    "If they are in order, leave them. \n",
    "If they are out of order, swap them. \n",
    "Once we have reached the end, we have ensured that the item at the end of the list is the largest item. \n",
    "Continue to iterate again and again until all items are in sorted order.  "
   ]
  },
  {
   "cell_type": "markdown",
   "metadata": {},
   "source": [
    "<img src=\"https://www.w3resource.com/w3r_images/bubble-short.png\"></img>"
   ]
  },
  {
   "cell_type": "markdown",
   "metadata": {},
   "source": [
    "Notice how in each pass of our iteration, we do not go all the way to the end. It is unncessary! We know that after the firdt pass, the last element in the list is the biggest of the entire list, and after the second pass the second to last item is the second biggest. Watch carefully how we only go as far as we have not yet sorted. \n",
    "\n",
    "\n",
    "<img src=\"https://upload.wikimedia.org/wikipedia/commons/0/06/Bubble-sort.gif\" />"
   ]
  },
  {
   "cell_type": "markdown",
   "metadata": {},
   "source": [
    "### Outside loop\n",
    "\n",
    "Let's begin by deciding how many time we must iterate over our entire list to make sure every item is sorted. \n",
    "\n",
    "If we have n items, the first iteration brings the largest item to the top. If we iterate n times, we will cover all n items. \n",
    "\n",
    "Is it necessary to iterate n times? On the last iteration we have sorted n - 1 items, which means by default the first item is already in its correct position, thus making it unnecessary to sort. \n",
    "\n",
    "In conclusion: Iterate n - 1 times on the outside!"
   ]
  },
  {
   "cell_type": "markdown",
   "metadata": {},
   "source": [
    "### Inside loop\n",
    "\n",
    "We will go from the beginning, all the way to the last item that was already in the correct position. At the beginning none of the elements are in sorted order, and so we must go to the very last index (n - 1). we can put that together to move the end point by n - 1 - i. "
   ]
  },
  {
   "cell_type": "markdown",
   "metadata": {},
   "source": [
    "### Check\n",
    "\n",
    "if our current item is bigger than the one to the right, swap them!\n",
    "\n",
    "For swapping variables we can use the fancy Python syntax, or simple use a temp variable. \n",
    "\n",
    "```\n",
    "item, item to right = item to right, item\n",
    "```\n",
    "\n",
    "Put this all together and we get: "
   ]
  },
  {
   "cell_type": "code",
   "execution_count": 2,
   "metadata": {},
   "outputs": [
    {
     "name": "stdout",
     "output_type": "stream",
     "text": [
      "[1, 2, 3, 4, 7, 9]\n"
     ]
    }
   ],
   "source": [
    "lst = [3, 7, 4, 2, 9, 1]\n",
    "n = len(lst)\n",
    "\n",
    "for i in range(n - 1):\n",
    "    for j in range(n - 1 - i):\n",
    "        if lst[j] > lst[j + 1]:\n",
    "            lst[j], lst[j + 1] = lst[j + 1], lst[j]\n",
    "\n",
    "print(lst)"
   ]
  },
  {
   "cell_type": "markdown",
   "metadata": {},
   "source": [
    "### Optimization\n",
    "\n",
    "Let's imagine a situation where our list is sorted, but we are unaware that it is.  \n",
    "\n",
    "Is it completely necessary for us to go through all this trouble of comparing and swapping just to get the correct order? Escpecially in this case where no swapping at all would ever happen?\n",
    "\n",
    "Idea: As we complete our bubble sort, keep track if we have found adjacent items that are out of order. If nothing is out of order, we can simply stop, since each item satisfies item < item to right of it. \n",
    "\n",
    "Let's add this condition to our code to save us all the unncessary work. "
   ]
  },
  {
   "cell_type": "code",
   "execution_count": 5,
   "metadata": {},
   "outputs": [
    {
     "name": "stdout",
     "output_type": "stream",
     "text": [
      "[1, 2, 3, 4, 5, 6]\n"
     ]
    }
   ],
   "source": [
    "lst2 = [1, 2, 3, 4, 5, 6]\n",
    "n2 = len(lst2)\n",
    "\n",
    "for i in range(n2 - 1):\n",
    "    swapped = False\n",
    "    for j in range(n2 - 1 - i):\n",
    "        if lst2[j] > lst2[j + 1]:\n",
    "            lst2[j], lst2[j + 1] = lst2[j + 1], lst2[j]\n",
    "            swapped = True\n",
    "    if swapped == False:\n",
    "        break\n",
    "\n",
    "print(lst2)"
   ]
  },
  {
   "cell_type": "markdown",
   "metadata": {},
   "source": [
    "### Difference in performance\n",
    "\n",
    "Although this seems like a very small change, imagine if we were working with really large lists. Small adjustments in our code can make a really big difference when we are working with large data quantites. Let's take a look at the performance difference between these two options when handling large data!\n",
    "\n",
    "Idea: to see this lets  generate a list of 10,000 numbers (already in sorted order) and pass them through our two functions. We will time the performance of each to see how they differ. "
   ]
  },
  {
   "cell_type": "code",
   "execution_count": 18,
   "metadata": {},
   "outputs": [
    {
     "name": "stdout",
     "output_type": "stream",
     "text": [
      "the total time for regular bubble sort is: 0:00:04.340574\n",
      "the total time for optimized bubble sort is: 0:00:00.000892\n"
     ]
    }
   ],
   "source": [
    "import datetime \n",
    "\n",
    "# generate our data for testing\n",
    "test_items_regular = []\n",
    "test_items_optimized = []\n",
    "test_range = 10000\n",
    "max_test_val = 10000\n",
    "\n",
    "for i in range(test_range):\n",
    "    test_items_regular.append(i)\n",
    "    test_items_optimized.append(i)\n",
    "\n",
    "# write our bubble sort functions\n",
    "def bubbleNormal(test_lst):\n",
    "    for i in range(test_range - 1):\n",
    "        for j in range(test_range - 1 - i):\n",
    "            if test_lst[j] > test_lst[j + 1]:\n",
    "                test_lst[j], test_lst[j + 1] = test_lst[j + 1], test_lst[j]\n",
    "\n",
    "\n",
    "def bubbleOptimized(test_lst):\n",
    "    for i in range(test_range - 1):\n",
    "        swapped = False\n",
    "        for j in range(test_range - 1 - i):\n",
    "            if test_lst[j] > test_lst[j + 1]:\n",
    "                test_lst[j], test_lst[j + 1] = test_lst[j + 1], test_lst[j]\n",
    "                swapped = True\n",
    "        if swapped == False:\n",
    "            break\n",
    "\n",
    "# test\n",
    "start = datetime.datetime.now()\n",
    "bubbleNormal(test_items_regular)\n",
    "total_time = datetime.datetime.now() - start\n",
    "print('the total time for regular bubble sort is:', total_time)\n",
    "\n",
    "start = datetime.datetime.now()\n",
    "bubbleOptimized(test_items_optimized)\n",
    "total_time = datetime.datetime.now() - start\n",
    "print('the total time for optimized bubble sort is:', total_time)\n"
   ]
  },
  {
   "cell_type": "markdown",
   "metadata": {},
   "source": [
    "<div class=\"alert alert-block alert-info\">\n",
    "Notice how the Regular version took several seconds to run, while the optimized only took some milli seconds. 10,000 is still a relatively small number. Imageine if you were working even larger numbers. We could be waiting for days or weeks for our code to finish running!\n",
    "</div>\n",
    "\n",
    "### Conclusion\n",
    "\n",
    "As programmers, we always want to look for new ways to solve problems, often problems that already have solutions. As we solve our problems we want to look for as many optimizations as we can in order to speed up the time it takes our code to run. Be very very careful when making optimizations in your code! If your optimization does not work for **all** test cases, you will run into some wrong answers along the way. "
   ]
  }
 ],
 "metadata": {
  "interpreter": {
   "hash": "aee8b7b246df8f9039afb4144a1f6fd8d2ca17a180786b69acc140d282b71a49"
  },
  "kernelspec": {
   "display_name": "Python 3.9.2 64-bit",
   "language": "python",
   "name": "python3"
  },
  "language_info": {
   "codemirror_mode": {
    "name": "ipython",
    "version": 3
   },
   "file_extension": ".py",
   "mimetype": "text/x-python",
   "name": "python",
   "nbconvert_exporter": "python",
   "pygments_lexer": "ipython3",
   "version": "3.9.2"
  },
  "orig_nbformat": 4
 },
 "nbformat": 4,
 "nbformat_minor": 2
}
