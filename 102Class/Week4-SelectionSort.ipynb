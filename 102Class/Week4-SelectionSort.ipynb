{
 "cells": [
  {
   "cell_type": "markdown",
   "metadata": {},
   "source": [
    "# Selection sort\n",
    "---\n",
    "\n",
    "Selection sort solves the same problem as before, but in a different way. The idea is tha we can scan the array for the smallest item and put it in the first place, then move to the next index and scan for the smallest item, over and over again. \n",
    "\n",
    "<img src=\"https://www.w3resource.com/w3r_images/selection-short.png\" />\n",
    "<br>\n",
    "Check out the animation to watch the numbers scan and swap.\n",
    "<br>\n",
    "<img src=\"https://codepumpkin.com/wp-content/uploads/2017/10/SelectionSort_Avg_case.gif\" />"
   ]
  },
  {
   "cell_type": "markdown",
   "metadata": {},
   "source": [
    "### Outer loop\n",
    "\n",
    "Our outer loop will hold the fixed position where we will put our smallest item from the space we are searching. \n",
    "If our list has n elements, we need to iterate n - 1 times. We don't want to go to n because we must always look forward to compare and we do not have any more elements to check after n. \n",
    "\n",
    "### Inner loop\n",
    "\n",
    "We need to keep track of the minimum value we see, so we create a variable to store this location. Our inner loop will go from 1 + our fixed position, all the way to the end of the list. \n",
    "\n",
    "### Comparison\n",
    "\n",
    "If the current value is less than the smallest we have seen, update the location of the smallest value in our search space. Once our loop is done, swap the fixed position with the smallest value we found. \n",
    "\n",
    "Let's see how it works. "
   ]
  },
  {
   "cell_type": "code",
   "execution_count": 2,
   "metadata": {},
   "outputs": [
    {
     "name": "stdout",
     "output_type": "stream",
     "text": [
      "[0, 1, 2, 3, 7, 8]\n"
     ]
    }
   ],
   "source": [
    "lst = [3, 7, 1, 2, 8, 0]\n",
    "n = len(lst)\n",
    "\n",
    "for i in range(n - 1):\n",
    "    pos_of_min = i\n",
    "    for j in range(i + 1, n):\n",
    "        if lst[j] < lst[pos_of_min]:\n",
    "            pos_of_min = j\n",
    "    lst[i], lst[pos_of_min] = lst[pos_of_min], lst[i]\n",
    "\n",
    "print(lst)"
   ]
  },
  {
   "cell_type": "markdown",
   "metadata": {},
   "source": [
    "## Selection sort versus bubble sort... Which is better?\n",
    "\n",
    "Is there a difference in performace between bubble and selection sort? Which should you use andy why?\n",
    "\n",
    "Let's do a test to see how fast they are in comparision. \n",
    "\n",
    "<div class=\"alert alert-block alert-info\">\n",
    "Idea: give both functions the same random list, and ask them to sort them. stop the time when they finish and compare. \n",
    "</div>\n"
   ]
  },
  {
   "cell_type": "code",
   "execution_count": 5,
   "metadata": {},
   "outputs": [
    {
     "name": "stdout",
     "output_type": "stream",
     "text": [
      "the total time for regular bubble sort is: 0:00:07.633190\n",
      "the total time for selection sort is: 0:00:03.340917\n"
     ]
    }
   ],
   "source": [
    "import random\n",
    "import datetime\n",
    "\n",
    "# generate some data for us to test\n",
    "bubble_lst = []\n",
    "selection_lst = []\n",
    "lst_size = 10000\n",
    "max_val = 10000\n",
    "\n",
    "for i in range(lst_size):\n",
    "    num = random.randint(0, max_val)\n",
    "    bubble_lst.append(num)\n",
    "    selection_lst.append(num)\n",
    "\n",
    "# write our functions\n",
    "\n",
    "def bubble(l):\n",
    "    n = len(l)\n",
    "    for i in range(n - 1):\n",
    "        for j in range(n - 1 - i):\n",
    "            if l[j] > l[j + 1]:\n",
    "                l[j], l[j + 1] = l[j + 1], l[j]\n",
    "\n",
    "def selection(l):\n",
    "    n = len(l)\n",
    "    for i in range(n - 1):\n",
    "        pos_of_min = i\n",
    "        for j in range(i + 1, n):\n",
    "            if l[j] < l[pos_of_min]:\n",
    "                pos_of_min = j\n",
    "        l[i], l[pos_of_min] = l[pos_of_min], l[i]\n",
    "\n",
    "# test\n",
    "start = datetime.datetime.now()\n",
    "bubble(bubble_lst)\n",
    "total_time = datetime.datetime.now() - start\n",
    "print('the total time for regular bubble sort is:', total_time)\n",
    "\n",
    "start = datetime.datetime.now()\n",
    "selection(selection_lst)\n",
    "total_time = datetime.datetime.now() - start\n",
    "print('the total time for selection sort is:', total_time)\n"
   ]
  },
  {
   "cell_type": "markdown",
   "metadata": {},
   "source": [
    "<div class=\"alert alert-black alert-success\">\n",
    "<h3>Selection sort wins!</h3><br>\n",
    "For average cases, selection sort is better than bubble sort. However, we must remember that bubble sort has the advantage of optimization where it can detect if the list is sorted in the middle of the sorting process. That means ther are some cases where optimized bubble sort is much better than selection sort. In general, selection sort is the faster algorithm for regular cases. \n",
    "</div>"
   ]
  },
  {
   "cell_type": "markdown",
   "metadata": {},
   "source": [
    "# Sorting more than Numbers\n",
    "\n",
    "So far we have only considered sorting lists of numbers. What would we do if we were tasked with sorting lists of strings? How could we do that?\n",
    "\n",
    "In both our bubble sort and selection sort algorithms, we use the power of the > symbol. This helped us to determine if two items are out of place. Does this work on characters?"
   ]
  },
  {
   "cell_type": "code",
   "execution_count": 3,
   "metadata": {},
   "outputs": [
    {
     "name": "stdout",
     "output_type": "stream",
     "text": [
      "['I', 'love', 'x-camp']\n"
     ]
    }
   ],
   "source": [
    "word_test = ['I', 'love', 'x-camp']\n",
    "num_words = len(word_test)\n",
    "\n",
    "for i in range(num_words - 1):\n",
    "    pos_of_min = i\n",
    "    for j in range(i + 1, num_words):\n",
    "        if word_test[j] < word_test[pos_of_min]:\n",
    "            pos_of_min = j\n",
    "    word_test[i], word_test[pos_of_min] = word_test[pos_of_min], word_test[i]\n",
    "\n",
    "print(word_test)"
   ]
  },
  {
   "cell_type": "markdown",
   "metadata": {},
   "source": [
    "Python is sorting our strings in alphabetical order, but also take note that it gives preference to capital letters. In the future we will learn more about the choice of order for sorting characters called ASCII value. You can read more into it [here](https://en.wikipedia.org/wiki/ASCII).\n",
    "\n",
    "What about if we had a list of lists, where each inner list represented a students name, and score? We want to sort the students by their score from lowest to highest. \n",
    "\n",
    "* Instead of using the > symbol, we can write a function where we pass our two students to do our custom comparison. \n",
    "\n",
    "Take a look at the following example: "
   ]
  },
  {
   "cell_type": "code",
   "execution_count": 8,
   "metadata": {},
   "outputs": [
    {
     "name": "stdout",
     "output_type": "stream",
     "text": [
      "[['Jason', 56.1], ['Phillip', 56.1], ['Dylan', 87.4], ['Albert', 94.2]]\n"
     ]
    }
   ],
   "source": [
    "all_students = [['Dylan', 87.4], ['Albert', 94.2], ['Phillip', 56.1], ['Jason', 56.1]]\n",
    "num_students = len(all_students)\n",
    "\n",
    "def studentABeforeB(student_a, student_b):\n",
    "    if student_a[1] < student_b[1]: # compare studet scores, lower one comes first\n",
    "        return True\n",
    "    elif student_a[1] > student_b[1]:\n",
    "        return False\n",
    "    else:\n",
    "        return student_a[0] < student_b[0] # equal scores? Sort them by name, alphabetically. \n",
    "        \n",
    "\n",
    "for i in range(num_students - 1):\n",
    "    pos_of_min = i\n",
    "    for j in range(i + 1, num_students):\n",
    "        if studentABeforeB(all_students[j], all_students[pos_of_min]):\n",
    "            pos_of_min = j\n",
    "    all_students[i], all_students[pos_of_min] = all_students[pos_of_min], all_students[i]\n",
    "\n",
    "print(all_students)"
   ]
  },
  {
   "cell_type": "markdown",
   "metadata": {},
   "source": [
    "Now we have the ability to sort whatever kind of data we desire. It is as simple as passing two points of data to a function, comparing them, and deciding based of a custom set of rules which data point is less than the other! Goign forward we may not always be asked to sort numbers, and so this will be very helpful. "
   ]
  }
 ],
 "metadata": {
  "interpreter": {
   "hash": "aee8b7b246df8f9039afb4144a1f6fd8d2ca17a180786b69acc140d282b71a49"
  },
  "kernelspec": {
   "display_name": "Python 3.9.2 64-bit",
   "language": "python",
   "name": "python3"
  },
  "language_info": {
   "codemirror_mode": {
    "name": "ipython",
    "version": 3
   },
   "file_extension": ".py",
   "mimetype": "text/x-python",
   "name": "python",
   "nbconvert_exporter": "python",
   "pygments_lexer": "ipython3",
   "version": "3.9.2"
  },
  "orig_nbformat": 4
 },
 "nbformat": 4,
 "nbformat_minor": 2
}
