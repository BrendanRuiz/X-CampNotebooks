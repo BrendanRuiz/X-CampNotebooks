{
 "cells": [
  {
   "cell_type": "markdown",
   "metadata": {},
   "source": [
    "# Selection sort\n",
    "---\n",
    "\n",
    "Selection sort solves the same problem as before, but in a different way. The idea is tha we can scan the array for the smallest item and put it in the first place, then move to the next index and scan for the smallest item, over and over again. \n",
    "\n",
    "<img src=\"https://www.w3resource.com/w3r_images/selection-short.png\" />\n",
    "<br>\n",
    "Check out the animation to watch the numbers scan and swap.\n",
    "<br>\n",
    "<img src=\"https://codepumpkin.com/wp-content/uploads/2017/10/SelectionSort_Avg_case.gif\" />"
   ]
  },
  {
   "cell_type": "markdown",
   "metadata": {},
   "source": [
    "### Outer loop\n",
    "\n",
    "Our outer loop will hold the fixed position where we will put our smallest item from the space we are searching. \n",
    "If our list has n elements, we need to iterate n - 1 times. We don't want to go to n because we must always look forward to compare and we do not have any more elements to check after n. \n",
    "\n",
    "### Inner loop\n",
    "\n",
    "We need to keep track of the minimum value we see, so we create a variable to store this location. Our inner loop will go from 1 + our fixed position, all the way to the end of the list. \n",
    "\n",
    "### comparison\n",
    "\n",
    "If the current value is less than the smallest we have seen, update the location of the smallest value in our search space. Once our loop is done, swap the fixed position with the smallest value we found. \n",
    "\n",
    "Let's see how it works. "
   ]
  },
  {
   "cell_type": "code",
   "execution_count": 1,
   "metadata": {},
   "outputs": [
    {
     "name": "stdout",
     "output_type": "stream",
     "text": [
      "[0, 1, 2, 3, 7, 8]\n"
     ]
    }
   ],
   "source": [
    "lst2 = [3, 7, 1, 2, 8, 0]\n",
    "sz = len(lst2)\n",
    "\n",
    "for i in range(sz - 1):\n",
    "    pos_of_min = i\n",
    "    for j in range(i + 1, sz):\n",
    "        if lst2[j] < lst2[pos_of_min]:\n",
    "            pos_of_min = j\n",
    "    lst2[i], lst2[pos_of_min] = lst2[pos_of_min], lst2[i]\n",
    "\n",
    "print(lst2)"
   ]
  }
 ],
 "metadata": {
  "interpreter": {
   "hash": "aee8b7b246df8f9039afb4144a1f6fd8d2ca17a180786b69acc140d282b71a49"
  },
  "kernelspec": {
   "display_name": "Python 3.9.2 64-bit",
   "language": "python",
   "name": "python3"
  },
  "language_info": {
   "codemirror_mode": {
    "name": "ipython",
    "version": 3
   },
   "file_extension": ".py",
   "mimetype": "text/x-python",
   "name": "python",
   "nbconvert_exporter": "python",
   "pygments_lexer": "ipython3",
   "version": "3.9.2"
  },
  "orig_nbformat": 4
 },
 "nbformat": 4,
 "nbformat_minor": 2
}
