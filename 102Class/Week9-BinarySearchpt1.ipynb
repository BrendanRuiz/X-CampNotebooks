{
 "cells": [
  {
   "cell_type": "markdown",
   "metadata": {},
   "source": [
    "# Binary Search - part 1\n",
    "---\n",
    "From our previous lesson about merge sort, we learned a very important lesson. We learned that sorted lists are very powerful and we can use them to solve problems in more efficient ways. For merge sort we start out with N sorted lists (all of size 1) and merged them together. At each merge step, we knew the lists a and b we were combining were already sorted. Due to this property, we could always take the smallest index of a list and know it is as low as we can go. \n",
    "\n",
    "Now, let's solve a new problem. Given a list of items, check to see if an item exists in our list. If the item is found, print 'found'. If our item is not found, print 'not found'.\n",
    "\n",
    "Lets explore our way to solve this problem: Linear search\n",
    "\n",
    "### Linear search\n",
    "\n",
    "<div class=\"alert alert-block alert-info\"><b>Idea:</b> Scan the list from left to right, visiting each item along the way. If we find our item, we are done. If we visit each item and we do not find what we were looking for, the item does not exist in the list.</div>\n",
    "\n",
    "Let's see linear search in practice. "
   ]
  },
  {
   "cell_type": "code",
   "execution_count": 2,
   "metadata": {},
   "outputs": [
    {
     "name": "stdout",
     "output_type": "stream",
     "text": [
      "not found\n",
      "found\n"
     ]
    }
   ],
   "source": [
    "def linear_search(lst, search_val):\n",
    "    for itm in lst:\n",
    "        if itm == search_val:\n",
    "            return 'found'\n",
    "    return 'not found'\n",
    "\n",
    "\n",
    "print(linear_search([1, 5, 7, 3, 4, 8, 0, 6], 2)) # looking for 2, which is not in the list\n",
    "print(linear_search([1, 5, 7, 3, 4, 8, 0, 6], 5)) # looking for 5, which is in the list\n"
   ]
  },
  {
   "cell_type": "markdown",
   "metadata": {},
   "source": [
    "Linear search is a perfectly good method for finding an item in a list. However, it can be faster or slower depending on where the item is in the list. \n",
    "\n",
    "Let's examine two special cases for finding an item we know exists in our list. \n",
    "\n",
    "Case 1: the item we are searching for is the very first value in our list.\n",
    "\n",
    "Case 2: the item we are searching for is the very last item in our list. \n",
    "\n",
    "Let's do a speed test to understand just how different these cases can be. "
   ]
  },
  {
   "cell_type": "code",
   "execution_count": 3,
   "metadata": {},
   "outputs": [
    {
     "name": "stdout",
     "output_type": "stream",
     "text": [
      "the total time for finding the first item in our list is: 0:00:00.000123\n",
      "the total time for finding the last item in our list is: 0:00:00.276976\n"
     ]
    }
   ],
   "source": [
    "import datetime\n",
    "\n",
    "# first let's generate a list of numebrs 1 to 10000001\n",
    "sample1 = []\n",
    "for i in range(1, 10000001):\n",
    "    sample1.append(i)\n",
    "\n",
    "# do our linear seach, searching for the first and last item in the list: 1 and 10000001\n",
    "start = datetime.datetime.now()\n",
    "ans1 = linear_search(sample1, 1)\n",
    "total_time = datetime.datetime.now() - start\n",
    "print('the total time for finding the first item in our list is:', total_time)\n",
    "\n",
    "start = datetime.datetime.now()\n",
    "ans2 = linear_search(sample1, 10000001)\n",
    "total_time = datetime.datetime.now() - start\n",
    "print('the total time for finding the last item in our list is:', total_time)\n",
    "\n"
   ]
  },
  {
   "cell_type": "markdown",
   "metadata": {},
   "source": [
    "As we can see from our test, the closer our item is to the front of the list, the faster we will find it. This means that our linear search is really great for some cases, but for others it isn't. Can we find a solution that closer in time for the items at the start and back?\n",
    "\n",
    "If our list has no order: No. Since we have no clue where the item is in the list, we can not jump around and look in different places to get to the answer faster. \n",
    "\n",
    "If our list ***is*** ordered: Yes! We will use that magical sorted property to get to our answer in a quicker way. This is called ***binary seach***\n",
    "\n",
    "<div class=\"alert alert-block alert-info\"><b>Idea:</b> \n",
    "Given a sorted list, we can divide the list in half. Now 1 of 3 statements must be true: <br>\n",
    "1. The item we are looking for is less than the middle item. In this case we can eliminate all the values in the right half since they must be greater than the middle element<br>\n",
    "2. The item we are looking at is greater than the middle item. In this case we can eliminate all the values in the left haf since they must be less than the middle element <br>\n",
    "3. If neither of the above is true, the item we are looking for is equal to the middle value and we are done searching.  \n",
    "</div>\n",
    "\n",
    "How does this improve on the linear search?\n",
    "\n",
    "In the linear seach, we visit each item one by one. If the items do not match, we rule out ***only*** 1 item at a time. \n",
    "\n",
    "In the binary seach, we start in the middle of the list. If the item does not match the middle, we can immediately eliminate ***half*** of the items from our list from being possible matches. \n",
    "\n",
    "<div class=\"alert alert-block alert-warning\"><b>Warning:</b> \n",
    "In order for binary search to work properly, the list must be in <b>sorted order</b>. If not, we cannot conclude that half the items are impossible with each check. \n",
    "</div>\n",
    "\n",
    "Lets look at the general procedure:\n",
    "\n",
    "<img src=\"https://storage.googleapis.com/algodailyrandomassets/tutorials-optimized/binarySearch1.png\" width=\"600\" />\n"
   ]
  },
  {
   "cell_type": "markdown",
   "metadata": {},
   "source": [
    "\n",
    "Let's take another look, watching as we change our search space each time: \n",
    "\n",
    "<img src=\"https://d18l82el6cdm1i.cloudfront.net/uploads/bePceUMnSG-binary_search_gif.gif\" />"
   ]
  },
  {
   "cell_type": "markdown",
   "metadata": {},
   "source": [
    "### General Procedure\n",
    "\n",
    "1. Create a left and a right. At the start $left = 0$, $right = len(list) - 1$. \n",
    "1. As long as our left position does not pass our right do the following:\n",
    "    * Calculate the middle index $middle = \\frac{left + right}{2}$\n",
    "    * If the value in the middle is less than the value we are searching for -> $left = middle + 1$\n",
    "    * If the value in the middle is greater than the value we are searching for -> $right = middle - 1$\n",
    "    * If neither of the first two cases were true, the value we in the middle is our search value! -> finish\n",
    "1. If we went through our entire binary search process without our middle value ever being equal to our search value, we did not find what we were looking for. \n",
    "\n",
    "Now let's put these steps together with code: "
   ]
  },
  {
   "cell_type": "code",
   "execution_count": 4,
   "metadata": {},
   "outputs": [
    {
     "name": "stdout",
     "output_type": "stream",
     "text": [
      "1\n"
     ]
    }
   ],
   "source": [
    "def binary_search(lst, target_value):\n",
    "    left, right = 0, len(lst) - 1 \n",
    "    while left <= right:\n",
    "        middle = (left + right) // 2\n",
    "        if lst[middle] < target_value:\n",
    "            left = middle + 1\n",
    "        elif lst[middle] > target_value:\n",
    "            right = middle - 1\n",
    "        else:\n",
    "            return 'found!'\n",
    "    return 'not found'\n",
    "\n"
   ]
  }
 ],
 "metadata": {
  "interpreter": {
   "hash": "aee8b7b246df8f9039afb4144a1f6fd8d2ca17a180786b69acc140d282b71a49"
  },
  "kernelspec": {
   "display_name": "Python 3.9.2 64-bit",
   "language": "python",
   "name": "python3"
  },
  "language_info": {
   "codemirror_mode": {
    "name": "ipython",
    "version": 3
   },
   "file_extension": ".py",
   "mimetype": "text/x-python",
   "name": "python",
   "nbconvert_exporter": "python",
   "pygments_lexer": "ipython3",
   "version": "3.9.2"
  },
  "orig_nbformat": 4
 },
 "nbformat": 4,
 "nbformat_minor": 2
}
