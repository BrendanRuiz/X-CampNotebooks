{
 "cells": [
  {
   "cell_type": "markdown",
   "metadata": {},
   "source": [
    "# Tuple, Dictionary and List Comprehension\n",
    "---\n",
    "\n",
    "### Tuple\n",
    "\n",
    "Like lists, tuples are used to store multiple items in a single variable. \n",
    "\n",
    "The major difference between lists and tuples is that tuples are ***unchangable***. \n",
    "\n",
    "Tuples are created with rounded bracket ( ). \n",
    "\n",
    "For example: \n"
   ]
  },
  {
   "cell_type": "code",
   "execution_count": 1,
   "metadata": {},
   "outputs": [
    {
     "name": "stdout",
     "output_type": "stream",
     "text": [
      "<class 'tuple'>\n",
      "('volleyball', 'basketball', 'soccer')\n"
     ]
    }
   ],
   "source": [
    "sports = ('volleyball', 'basketball', 'soccer')\n",
    "\n",
    "print(type(sports))\n",
    "print(sports)"
   ]
  },
  {
   "cell_type": "markdown",
   "metadata": {},
   "source": [
    "Just like lists, we can use bracket notation to access items in our tuple. However we can not use it to change items. "
   ]
  },
  {
   "cell_type": "code",
   "execution_count": 3,
   "metadata": {},
   "outputs": [
    {
     "name": "stdout",
     "output_type": "stream",
     "text": [
      "Matisse\n",
      "['Monet', 'Van Gogh', 'Dali']\n",
      "Matisse\n",
      "'tuple' object does not support item assignment\n",
      "('Monet', 'Matisse', 'Dali')\n"
     ]
    }
   ],
   "source": [
    "painters_list = ['Monet', 'Matisse', 'Dali']\n",
    "painters_tuple = ('Monet', 'Matisse', 'Dali')\n",
    "\n",
    "print(painters_list[1])\n",
    "painters_list[1] = 'Van Gogh'\n",
    "print(painters_list)\n",
    "\n",
    "print(painters_tuple[1])\n",
    "try:\n",
    "    painters_tuple[1] = 'Hopper'\n",
    "except Exception as e: \n",
    "    print(e)\n",
    "print(painters_tuple)"
   ]
  },
  {
   "cell_type": "markdown",
   "metadata": {},
   "source": [
    "Tuples can accept all data types and even support using multiple data types like lists. "
   ]
  },
  {
   "cell_type": "code",
   "execution_count": 4,
   "metadata": {},
   "outputs": [],
   "source": [
    "test = (1, True, 'red', [1.1, 2.2, 3.3])"
   ]
  },
  {
   "cell_type": "markdown",
   "metadata": {},
   "source": [
    "Be careful when creating tuples! Here is an example that seems like we are creating a tuple, but actually is not. \n",
    "\n",
    "We can fix this example by adding a comma. "
   ]
  },
  {
   "cell_type": "code",
   "execution_count": 7,
   "metadata": {},
   "outputs": [
    {
     "name": "stdout",
     "output_type": "stream",
     "text": [
      "<class 'str'>\n",
      "<class 'tuple'>\n"
     ]
    }
   ],
   "source": [
    "test2 = ('something')\n",
    "\n",
    "print(type(test2))\n",
    "\n",
    "test3 = ('something',)\n",
    "\n",
    "print(type(test3))"
   ]
  },
  {
   "cell_type": "markdown",
   "metadata": {},
   "source": [
    "We can join and multiply tuples as well. Take a look at these examples: "
   ]
  },
  {
   "cell_type": "code",
   "execution_count": 10,
   "metadata": {},
   "outputs": [
    {
     "name": "stdout",
     "output_type": "stream",
     "text": [
      "(1, 2, 3, 4, 5, 6)\n",
      "('Python', 'Javascript', 'R', 'Python', 'Javascript', 'R')\n"
     ]
    }
   ],
   "source": [
    "a = (1, 2, 3)\n",
    "b = (4, 5, 6)\n",
    "c = a + b\n",
    "\n",
    "print(c)\n",
    "\n",
    "languages = ('Python', 'Javascript', 'R')\n",
    "languages_doubled = languages * 2\n",
    "\n",
    "print(languages_doubled)\n"
   ]
  },
  {
   "cell_type": "markdown",
   "metadata": {},
   "source": [
    "### Dictionaries\n",
    "\n",
    "Dictionaries are used to store key value pairs.\n",
    "```\n",
    "key: value\n",
    "```\n",
    "Like lists, we can use bracet notation to get specific values. \n",
    "\n",
    "For example:"
   ]
  },
  {
   "cell_type": "code",
   "execution_count": 13,
   "metadata": {},
   "outputs": [
    {
     "name": "stdout",
     "output_type": "stream",
     "text": [
      "8\n"
     ]
    }
   ],
   "source": [
    "student = {\n",
    "    'name': 'William',\n",
    "    'Age': 13,\n",
    "    'Grade': 8,\n",
    "    'GPA': 3.8\n",
    "}\n",
    "\n",
    "print(student['Grade'])"
   ]
  },
  {
   "cell_type": "markdown",
   "metadata": {},
   "source": [
    "With dictionaries, we ***can*** change and add values. However, duplicated keys are not allowed. We ***can*** have duplicate values. \n",
    "\n",
    "To add or change values in our dictionary we can use bracket notation [ ]."
   ]
  },
  {
   "cell_type": "code",
   "execution_count": 21,
   "metadata": {},
   "outputs": [
    {
     "name": "stdout",
     "output_type": "stream",
     "text": [
      "{'color': 'red'}\n",
      "{'color': 'blue'}\n"
     ]
    }
   ],
   "source": [
    "test_dict = {}\n",
    "test_dict['color'] = 'red'\n",
    "print(test_dict)\n",
    "\n",
    "test_dict['color'] = 'blue'\n",
    "print(test_dict)\n"
   ]
  },
  {
   "cell_type": "markdown",
   "metadata": {},
   "source": [
    "We can remove items from our dictionary using pop(). \n",
    "\n",
    "We can use del to remove a key value pair. "
   ]
  },
  {
   "cell_type": "code",
   "execution_count": 22,
   "metadata": {},
   "outputs": [
    {
     "name": "stdout",
     "output_type": "stream",
     "text": [
      "{}\n",
      "{}\n"
     ]
    }
   ],
   "source": [
    "test_dict.pop('color')\n",
    "print(test_dict)\n",
    "\n",
    "test_dict['year'] = 1995\n",
    "del test_dict['year']\n",
    "print(test_dict)"
   ]
  },
  {
   "cell_type": "markdown",
   "metadata": {},
   "source": [
    "We can loop through our dictionary to get keys, values or both. "
   ]
  },
  {
   "cell_type": "code",
   "execution_count": 28,
   "metadata": {},
   "outputs": [
    {
     "name": "stdout",
     "output_type": "stream",
     "text": [
      "year\n",
      "size\n",
      "Color\n",
      "Sold\n",
      "-----\n",
      "2006\n",
      "M\n",
      "Green\n",
      "False\n",
      "-----\n",
      "year 2006\n",
      "size M\n",
      "Color Green\n",
      "Sold False\n"
     ]
    }
   ],
   "source": [
    "bicycle = {\n",
    "    'year': 2006,\n",
    "    'size': 'M',\n",
    "    'Color': 'Green',\n",
    "    'Sold': False\n",
    "}\n",
    "\n",
    "# print keys\n",
    "for x in bicycle:\n",
    "    print(x)\n",
    "\n",
    "print('-----')\n",
    "\n",
    "# print values\n",
    "for x in bicycle:\n",
    "    print(bicycle[x])\n",
    "\n",
    "print('-----')\n",
    "\n",
    "# print both key and value\n",
    "\n",
    "for x, y in bicycle.items():\n",
    "    print(x, y)\n"
   ]
  },
  {
   "cell_type": "markdown",
   "metadata": {},
   "source": [
    "There are many helpful dictionary methods. You can search 'dictionary methods' on the web or click <a href=\"https://www.w3schools.com/python/python_dictionaries_methods.asp\">here</a>."
   ]
  },
  {
   "cell_type": "markdown",
   "metadata": {},
   "source": [
    "### List comprehension\n",
    "\n",
    "So far we do not have a very nice way of building lists. Lets say I wanted to build a list of numbers 1 to 10. I could do one of the following:"
   ]
  },
  {
   "cell_type": "code",
   "execution_count": 30,
   "metadata": {},
   "outputs": [],
   "source": [
    "lst = [1, 2, 3, 4, 5, 6, 7, 8, 9, 10]\n",
    "\n",
    "lst = []\n",
    "for i in range(1, 11):\n",
    "    lst.append(i)"
   ]
  },
  {
   "cell_type": "markdown",
   "metadata": {},
   "source": [
    "Both of these are bad for a specific reason. For the first one, it is a lot of work to write all the numbers out by hand. For the second, I don't want to have to create a empty list and use append with a loop to add items. \n",
    "\n",
    "Here is another example where you want to take the list of numbers 1 to 10 and make a new list of all the odd numbers. "
   ]
  },
  {
   "cell_type": "code",
   "execution_count": 31,
   "metadata": {},
   "outputs": [
    {
     "name": "stdout",
     "output_type": "stream",
     "text": [
      "[1, 3, 5, 7, 9]\n"
     ]
    }
   ],
   "source": [
    "odds = []\n",
    "for num in lst:\n",
    "    if num % 2 == 1:\n",
    "        odds.append(num)\n",
    "\n",
    "print(odds)"
   ]
  },
  {
   "cell_type": "markdown",
   "metadata": {},
   "source": [
    "List comprehension allows for shorter syntax when making lists from existing ones or any iterable. Yes, even using the i from a range loop! \n",
    "\n",
    "To use this sytax we use square braces and write:\n",
    "\n",
    "```\n",
    "new_lst = [expression for item in iterable if condition]\n",
    "```\n",
    "\n",
    "If we want we can leave out the condition.\n",
    "\n",
    "To make my original list of numbers from 1 to 10. I can instead write:"
   ]
  },
  {
   "cell_type": "code",
   "execution_count": 32,
   "metadata": {},
   "outputs": [
    {
     "name": "stdout",
     "output_type": "stream",
     "text": [
      "[1, 2, 3, 4, 5, 6, 7, 8, 9, 10]\n"
     ]
    }
   ],
   "source": [
    "lst_comp = [i for i in range(1, 11)]\n",
    "print(lst_comp)"
   ]
  },
  {
   "cell_type": "markdown",
   "metadata": {},
   "source": [
    "I can make my odds list by writing:"
   ]
  },
  {
   "cell_type": "code",
   "execution_count": 33,
   "metadata": {},
   "outputs": [
    {
     "name": "stdout",
     "output_type": "stream",
     "text": [
      "[1, 3, 5, 7, 9]\n"
     ]
    }
   ],
   "source": [
    "odds_comp = [i for i in range(1, 10) if i % 2 == 1]\n",
    "print(odds_comp)"
   ]
  },
  {
   "cell_type": "markdown",
   "metadata": {},
   "source": [
    "Take a look at some of these examples to see how powerful this technique is."
   ]
  },
  {
   "cell_type": "code",
   "execution_count": 38,
   "metadata": {},
   "outputs": [
    {
     "name": "stdout",
     "output_type": "stream",
     "text": [
      "['h', 'h', 'l', 'l', 'h', 'w', 'r', 't', 'd']\n",
      "[100, 101, 200, 201, 202, 300]\n",
      "[1, 4, 9, 16, 25, 36, 49, 64, 81, 100]\n",
      "0 0 0 0 0 \n",
      "0 0 0 0 0 \n",
      "0 0 0 0 0 \n"
     ]
    }
   ],
   "source": [
    "# make a list of all non vowel letters from string\n",
    "non_vowels = [x for x in 'hihellohowareyoutoday' if x not in ['a', 'e', 'i', 'o', 'u', 'y']]\n",
    "print(non_vowels)\n",
    "\n",
    "# make a list classes that aren't 102\n",
    "classes = [100, 101, 102, 200, 201, 202, 300]\n",
    "not_102_classes = [x for x in classes if x != 102]\n",
    "print(not_102_classes)\n",
    "\n",
    "# generate squares from 1 to 10\n",
    "squares =  [x**2 for x in range(1, 11)]\n",
    "print(squares)\n",
    "\n",
    "# generate matrix 3 x 5\n",
    "matrix = [[0 for y in range(5)] for x in range(3)]\n",
    "for lst in matrix:\n",
    "    for itm in lst:\n",
    "        print(itm, end = ' ')\n",
    "    print()\n"
   ]
  },
  {
   "cell_type": "markdown",
   "metadata": {},
   "source": [
    "We can even use it to take user input. Check out these examples. "
   ]
  },
  {
   "cell_type": "code",
   "execution_count": 4,
   "metadata": {},
   "outputs": [
    {
     "name": "stdout",
     "output_type": "stream",
     "text": [
      "hello world\n",
      "[1, 2, 3, 4, 5, 6]\n"
     ]
    }
   ],
   "source": [
    "# collect two strings from console\n",
    "s1, s2 = [s for s in input().split()]\n",
    "print(s1, s2)\n",
    "\n",
    "# collect a line of numbers into a list from console\n",
    "a = [int(x) for x in input().split()]\n",
    "print(a)"
   ]
  },
  {
   "cell_type": "markdown",
   "metadata": {},
   "source": [
    "We can even take in a matrix from user input. "
   ]
  },
  {
   "cell_type": "code",
   "execution_count": 7,
   "metadata": {},
   "outputs": [
    {
     "name": "stdout",
     "output_type": "stream",
     "text": [
      "1 2 \n",
      "3 4 \n"
     ]
    }
   ],
   "source": [
    "n, m = [int(x) for x in input().split()]\n",
    "\n",
    "matrix = []\n",
    "\n",
    "for i in range(n):\n",
    "    matrix.append([int(j) for j in input().split()])\n",
    "\n",
    "for row in matrix:\n",
    "    for itm in row: \n",
    "        print(itm, end = ' ')\n",
    "    print()"
   ]
  }
 ],
 "metadata": {
  "interpreter": {
   "hash": "aee8b7b246df8f9039afb4144a1f6fd8d2ca17a180786b69acc140d282b71a49"
  },
  "kernelspec": {
   "display_name": "Python 3.9.2 64-bit",
   "language": "python",
   "name": "python3"
  },
  "language_info": {
   "codemirror_mode": {
    "name": "ipython",
    "version": 3
   },
   "file_extension": ".py",
   "mimetype": "text/x-python",
   "name": "python",
   "nbconvert_exporter": "python",
   "pygments_lexer": "ipython3",
   "version": "3.9.2"
  },
  "orig_nbformat": 4
 },
 "nbformat": 4,
 "nbformat_minor": 2
}
