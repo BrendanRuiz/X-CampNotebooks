{
 "cells": [
  {
   "cell_type": "markdown",
   "metadata": {},
   "source": [
    "# Median\n",
    "\n",
    "Read the question prompt [here](https://xjoi.net/problem/9157) <br>\n",
    "\n",
    "In this question we are asked to find the median. What is a median?\n",
    "\n",
    "<div class=\"alert alert-block alert-info\"><b>Median:</b> The median is the middle number in a sorted list of numbers</div>\n",
    "\n",
    "Here is our task for the problem: \n",
    "1. Sort our list of numebrs\n",
    "1. Find the middle element\n",
    "\n",
    "For sorting, we can choose our favorite sorting method. All of these will work for this problem. \n",
    "\n",
    "In order to find the middle number, we can access it using bracket notation. ***n is guaranteed to be an odd number***. Due to this fact, we can find the middle index by taking n and dividing by 2, and rounding down to the whole number. \n",
    "\n",
    "In python we can do this by using floor division. "
   ]
  },
  {
   "cell_type": "code",
   "execution_count": 1,
   "metadata": {},
   "outputs": [
    {
     "name": "stdout",
     "output_type": "stream",
     "text": [
      "3\n"
     ]
    }
   ],
   "source": [
    "n = 5\n",
    "l = [1, 2, 3, 4, 5]\n",
    "\n",
    "print(l[n//2])"
   ]
  },
  {
   "cell_type": "markdown",
   "metadata": {},
   "source": [
    "# Double Sort Sequence\n",
    "\n",
    "Read the question prompt [here](https://xjoi.net/problem/9550) <br>\n",
    "\n",
    "Like the previous question, we are asked to first sort the list, and then print out the items in a particular order. For sorting, feel free to use your favorite sorting method. \n",
    "\n",
    "Let's take a look at how we can print out in the order of largest, smallest, second largest, second smallest. \n",
    "\n",
    "1. set index of largest and smallest\n",
    "1. set bool to know if we are at the end or the beginning\n",
    "1. iterate over list to collect the value needed\n",
    "1. at each iteration, change the bool val to represent switch from back to front or front to back and also increment or decrement the position of the smallest or largest"
   ]
  },
  {
   "cell_type": "code",
   "execution_count": 3,
   "metadata": {},
   "outputs": [
    {
     "name": "stdout",
     "output_type": "stream",
     "text": [
      "10 1 9 2 8 3 7 4 6 5 "
     ]
    }
   ],
   "source": [
    "l = [1, 2, 3, 4, 5, 6, 7, 8, 9, 10]\n",
    "\n",
    "n = 10\n",
    "front = False\n",
    "smallest_ind = 0\n",
    "largest_ind = n - 1\n",
    "\n",
    "for i in range(n):\n",
    "    if front:\n",
    "        print(l[smallest_ind], end = ' ')\n",
    "        smallest_ind += 1\n",
    "        front = False\n",
    "    else:\n",
    "        print(l[largest_ind], end = ' ')\n",
    "        largest_ind -= 1\n",
    "        front = True\n",
    "    "
   ]
  },
  {
   "cell_type": "markdown",
   "metadata": {},
   "source": [
    "# Matrix sort\n",
    "\n",
    "Read the question prompt [here](https://xjoi.net/problem/8154) <br>\n",
    "\n",
    "We need to understand two things. \n",
    "\n",
    "1. Matrix are simply lists inside of lists\n",
    "1. Python has the ability to compare lists\n",
    "\n",
    "In our sorting methods we rely on comparison operators to tell us if an item is bigger or smaller than another item. Usually we just check numbers against each other but we can also compare strings and lists. \n",
    "\n",
    "Take a look at this example:"
   ]
  },
  {
   "cell_type": "code",
   "execution_count": 6,
   "metadata": {},
   "outputs": [
    {
     "name": "stdout",
     "output_type": "stream",
     "text": [
      "the first is smaller\n"
     ]
    }
   ],
   "source": [
    "if [1, 1, 3] < [1, 2, 3]:\n",
    "    print('the first is smaller')"
   ]
  },
  {
   "cell_type": "markdown",
   "metadata": {},
   "source": [
    "What this tells us is that Python compares lists by checking each respective index. If the first idex value is the same, it will move to the next. \n",
    "\n",
    "This is exactly how we want to sort our matrix. So all we need to do is pass our matrix to our favorite sorting method and print it out. "
   ]
  },
  {
   "cell_type": "markdown",
   "metadata": {},
   "source": [
    "# Beautiful Matrix\n",
    "\n",
    "Read the question prompt [here](https://xjoi.net/problem/1186) <br>\n",
    "\n",
    "In this question we are given a 5x5 matrix and we want to know how many moves we need to make in order to get the 1 to the middle. Essentially we are being asked to find the distance from the 1 to the middle position. \n",
    "\n",
    "In a 5x5 the middle index value is at row 2 column 2. We need to find the distance in the x and y directions and add them together. \n",
    "\n",
    "We can do this by taking the absolute value of our middle position - position of the 1 in our matrix. \n",
    "\n",
    "Let's say our 1 was at position 0, 0. Our middle position is 2, 2. We would do the following:\n",
    "\n"
   ]
  },
  {
   "cell_type": "code",
   "execution_count": 7,
   "metadata": {},
   "outputs": [
    {
     "name": "stdout",
     "output_type": "stream",
     "text": [
      "4\n"
     ]
    }
   ],
   "source": [
    "print(abs(2 - 0) + abs(2 - 0))"
   ]
  },
  {
   "cell_type": "markdown",
   "metadata": {},
   "source": [
    "# Strange Sort\n",
    "\n",
    "Read the question prompt [here](https://xjoi.net/problem/3288) <br>\n",
    "\n",
    "In this problem we will not actually rotate the items. We will check for the point in the list where there is a dip from a big number to a smaller number. \n",
    "\n",
    "In the example \n",
    "\n",
    "```\n",
    "4 5 6 1 2 3\n",
    "```\n",
    "\n",
    "The dip is between 6 and 1. So 1, 2, 3 need to be rotated in order to get back to a sorted list. \n",
    "\n",
    "If there is more than one dip, this means that the list cannot be rotated to get back to its origonal form. If there is no dip, this means the list is already is sorted order. \n",
    "\n",
    "We will check the list and see the number of dips. If there are 0 dips, we print 0. If there is 1 dip, we have a chance it could work and if there are 2 or more it is impossible. \n",
    "\n",
    "Take for example the list\n",
    "\n",
    "```\n",
    "2 4 5 1 3\n",
    "```\n",
    "There is only 1 dip between 5 and 1. Is this possible to rotate to get to the sorted order? No!\n",
    "***If the last item is larger than the first, it is impossible***. Why? The last number rotated to the front would create a second dip, and more than 1 makes the list impossible. "
   ]
  },
  {
   "cell_type": "code",
   "execution_count": 15,
   "metadata": {},
   "outputs": [
    {
     "name": "stdout",
     "output_type": "stream",
     "text": [
      "dip between 5 and 1\n",
      "dip between 4 and 2\n",
      "not possible to sort!\n"
     ]
    }
   ],
   "source": [
    "n = 5\n",
    "l = [2, 4, 5, 1, 4]\n",
    "\n",
    "num_dips = 0\n",
    "for i in range(1, n):\n",
    "    if l[i] < l[i - 1]:\n",
    "        print('dip between', l[i - 1], 'and', l[i])\n",
    "        num_dips += 1\n",
    "if l[-1] > l[0]:\n",
    "    print('dip between', l[-1], 'and', l[0])\n",
    "    num_dips += 1\n",
    "\n",
    "if num_dips > 1:\n",
    "    print('not possible to sort!')\n",
    "elif num_dips == 0:\n",
    "    print('already sorted!!')\n",
    "else:\n",
    "    print('this will work!')\n"
   ]
  }
 ],
 "metadata": {
  "interpreter": {
   "hash": "aee8b7b246df8f9039afb4144a1f6fd8d2ca17a180786b69acc140d282b71a49"
  },
  "kernelspec": {
   "display_name": "Python 3.9.2 64-bit",
   "language": "python",
   "name": "python3"
  },
  "language_info": {
   "codemirror_mode": {
    "name": "ipython",
    "version": 3
   },
   "file_extension": ".py",
   "mimetype": "text/x-python",
   "name": "python",
   "nbconvert_exporter": "python",
   "pygments_lexer": "ipython3",
   "version": "3.9.2"
  },
  "orig_nbformat": 4
 },
 "nbformat": 4,
 "nbformat_minor": 2
}
