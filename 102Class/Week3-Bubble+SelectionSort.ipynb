{
 "cells": [
  {
   "cell_type": "markdown",
   "metadata": {},
   "source": [
    "# Bubble Sort\n",
    "\n",
    "---"
   ]
  },
  {
   "cell_type": "markdown",
   "metadata": {},
   "source": [
    "From week 1 we learned that we can sort a list of items using a helpful list function called sort(). How exactly does this function work? \n",
    "\n",
    "That is not such an staightforward answer since Python's sort() uses a few different strategies in order to get the fastest it can to the answer. In order to understand sorting, we must begin by learning different ways to sort items. \n",
    "\n",
    "All sorting methods are different, but are derived from the same simple task: organize a list of items in order\n",
    "\n",
    "The **Bubble sort method** is one of the easiest ways to begin. how does it work?"
   ]
  },
  {
   "cell_type": "markdown",
   "metadata": {},
   "source": [
    "### idea\n",
    "Iterate over the list and at each position compare the item with the item that comes after it. \n",
    "If they are in order, leave them. \n",
    "If they are out of order, swap them. \n",
    "Once we have reached the end, we have ensured that the item at the end of the list is the largest item. \n",
    "Continue to iterate again and again until all items are in sorted order.  "
   ]
  },
  {
   "cell_type": "markdown",
   "metadata": {},
   "source": [
    "<img src=\"https://www.w3resource.com/w3r_images/bubble-short.png\"></img>"
   ]
  },
  {
   "cell_type": "markdown",
   "metadata": {},
   "source": [
    "Notice how in each pass of our iteration, we do not go all the way to the end. It is unncessary! We know that after the firdt pass, the last element in the list is the biggest of the entire list, and after the second pass the second to last item is the second biggest. Watch carefully how we only go as far as we have not yet sorted. \n",
    "\n",
    "\n",
    "<img src=\"https://upload.wikimedia.org/wikipedia/commons/0/06/Bubble-sort.gif\" />"
   ]
  },
  {
   "cell_type": "markdown",
   "metadata": {},
   "source": [
    "### Outside loop\n",
    "\n",
    "Let's begin by deciding how many time we must iterate over our entire list to make sure every item is sorted. \n",
    "\n",
    "If we have n items, the first iteration brings the largest item to the top. If we iterate n times, we will cover all n items. \n",
    "\n",
    "Is it necessary to iterate n times? On the last iteration we have sorted n - 1 items, which means by default the first item is already in its correct position, thus making it unnecessary to sort. \n",
    "\n",
    "In conclusion: Iterate n - 1 times on the outside!"
   ]
  },
  {
   "cell_type": "markdown",
   "metadata": {},
   "source": [
    "### Inside loop\n",
    "\n",
    "We will go from the beginning, all the way to the last item that was already in the correct position. At the beginning none of the elements are in sorted order, and so we must go to the very last index (n - 1). we can put that together to move the end point by n - 1 - i. "
   ]
  },
  {
   "cell_type": "markdown",
   "metadata": {},
   "source": [
    "### Check\n",
    "\n",
    "if our current item is bigger than the one to the right, swap them!\n",
    "\n",
    "For swapping variables we can use the fancy Python syntax, or simple use a temp variable. \n",
    "\n",
    "```\n",
    "item, item to right = item to right, item\n",
    "```\n",
    "\n",
    "Put this all together and we get: "
   ]
  },
  {
   "cell_type": "code",
   "execution_count": 2,
   "metadata": {},
   "outputs": [
    {
     "name": "stdout",
     "output_type": "stream",
     "text": [
      "[1, 2, 3, 4, 7, 9]\n"
     ]
    }
   ],
   "source": [
    "lst = [3, 7, 4, 2, 9, 1]\n",
    "n = len(lst)\n",
    "\n",
    "for i in range(n - 1):\n",
    "    for j in range(n - 1 - i):\n",
    "        if lst[j] > lst[j + 1]:\n",
    "            lst[j], lst[j + 1] = lst[j + 1], lst[j]\n",
    "\n",
    "print(lst)"
   ]
  },
  {
   "cell_type": "markdown",
   "metadata": {},
   "source": [
    "# Selection sort\n",
    "---\n",
    "\n",
    "Selection sort solves the same problem as before, but in a different way. The idea is tha we can scan the array for the smallest item and put it in the first place, then move to the next index and scan for the smallest item, over and over again. \n",
    "\n",
    "<img src=\"https://www.w3resource.com/w3r_images/selection-short.png\" />\n",
    "<br>\n",
    "Check out the animation to watch the numbers scan and swap.\n",
    "<br>\n",
    "<img src=\"https://codepumpkin.com/wp-content/uploads/2017/10/SelectionSort_Avg_case.gif\" />"
   ]
  },
  {
   "cell_type": "markdown",
   "metadata": {},
   "source": [
    "### Outer loop\n",
    "\n",
    "Our outer loop will hold the fixed position where we will put our smallest item from the space we are searching. \n",
    "If our list has n elements, we need to iterate n - 1 times. We don't want to go to n because we must always look forward to compare and we do not have any more elements to check after n. \n",
    "\n",
    "### Inner loop\n",
    "\n",
    "We need to keep track of the minimum value we see, so we create a variable to store this location. Our inner loop will go from 1 + our fixed position, all the way to the end of the list. \n",
    "\n",
    "### comparison\n",
    "\n",
    "If the current value is less than the smallest we have seen, update the location of the smallest value in our search space. Once our loop is done, swap the fixed position with the smallest value we found. \n",
    "\n",
    "Let's see how it works. "
   ]
  },
  {
   "cell_type": "code",
   "execution_count": 3,
   "metadata": {},
   "outputs": [
    {
     "name": "stdout",
     "output_type": "stream",
     "text": [
      "[0, 1, 2, 3, 7, 8]\n"
     ]
    }
   ],
   "source": [
    "lst2 = [3, 7, 1, 2, 8, 0]\n",
    "sz = len(lst2)\n",
    "\n",
    "for i in range(sz - 1):\n",
    "    pos_of_min = i\n",
    "    for j in range(i + 1, sz):\n",
    "        if lst2[j] < lst2[pos_of_min]:\n",
    "            pos_of_min = j\n",
    "    lst2[i], lst2[pos_of_min] = lst2[pos_of_min], lst2[i]\n",
    "\n",
    "print(lst2)"
   ]
  }
 ],
 "metadata": {
  "interpreter": {
   "hash": "aee8b7b246df8f9039afb4144a1f6fd8d2ca17a180786b69acc140d282b71a49"
  },
  "kernelspec": {
   "display_name": "Python 3.9.2 64-bit",
   "language": "python",
   "name": "python3"
  },
  "language_info": {
   "codemirror_mode": {
    "name": "ipython",
    "version": 3
   },
   "file_extension": ".py",
   "mimetype": "text/x-python",
   "name": "python",
   "nbconvert_exporter": "python",
   "pygments_lexer": "ipython3",
   "version": "3.9.2"
  },
  "orig_nbformat": 4
 },
 "nbformat": 4,
 "nbformat_minor": 2
}
